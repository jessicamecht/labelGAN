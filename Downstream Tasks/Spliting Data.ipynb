{
 "cells": [
  {
   "cell_type": "code",
   "execution_count": 1,
   "id": "d28e6a88",
   "metadata": {},
   "outputs": [],
   "source": [
    "import numpy as np\n",
    "import os\n",
    "import random\n",
    "import pickle"
   ]
  },
  {
   "cell_type": "code",
   "execution_count": 2,
   "id": "d750d8c5",
   "metadata": {},
   "outputs": [],
   "source": [
    "root_dir = '../../dataset_xray/'\n",
    "image_folder = 'images/'\n",
    "label_folder = 'masks/'\n",
    "label_paths = [label for label in os.listdir(root_dir+label_folder)]\n",
    "#only reading images which have labels\n",
    "image_paths = [label.replace('_mask','') for label in os.listdir(root_dir+label_folder)]"
   ]
  },
  {
   "cell_type": "code",
   "execution_count": 3,
   "id": "49bcbbb8",
   "metadata": {},
   "outputs": [],
   "source": [
    "paths = {}\n",
    "indices = list(np.arange(0,len(image_paths)))\n",
    "random.shuffle(indices)\n",
    "\n",
    "paths['train_image_paths'] = [image_paths[i] for i in indices[0:300]]\n",
    "paths['train_label_paths'] = [label_paths[i] for i in indices[0:300]]\n",
    "paths['valid_image_paths'] = [image_paths[i] for i in indices[300:500]]\n",
    "paths['valid_label_paths'] = [label_paths[i] for i in indices[300:500]]\n",
    "paths['test_image_paths'] = [image_paths[i] for i in indices[500:700]]\n",
    "paths['test_label_paths'] = [label_paths[i] for i in indices[500:700]]"
   ]
  },
  {
   "cell_type": "code",
   "execution_count": 4,
   "id": "56230f23",
   "metadata": {},
   "outputs": [],
   "source": [
    "f = open(\"paths.pkl\",\"wb\")\n",
    "pickle.dump(paths,f)\n",
    "f.close()"
   ]
  }
 ],
 "metadata": {
  "kernelspec": {
   "display_name": "Python 3 (ipykernel)",
   "language": "python",
   "name": "python3"
  },
  "language_info": {
   "codemirror_mode": {
    "name": "ipython",
    "version": 3
   },
   "file_extension": ".py",
   "mimetype": "text/x-python",
   "name": "python",
   "nbconvert_exporter": "python",
   "pygments_lexer": "ipython3",
   "version": "3.9.5"
  }
 },
 "nbformat": 4,
 "nbformat_minor": 5
}
