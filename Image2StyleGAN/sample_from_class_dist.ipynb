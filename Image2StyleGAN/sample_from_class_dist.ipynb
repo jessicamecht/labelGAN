{
 "cells": [
  {
   "cell_type": "code",
   "execution_count": 12,
   "metadata": {},
   "outputs": [],
   "source": [
    "import pandas as pd\n",
    "import numpy as np \n",
    "import os, sys\n",
    "sys.path.append('/home/jessica/labelGAN/StyleGAN.pytorch/')\n",
    "from models.GAN import * \n",
    "from stylegan_layers import  G_mapping,G_synthesis\n",
    "from sklearn.neighbors import KernelDensity\n",
    "import shutil\n",
    "from torchvision.utils import save_image\n",
    "import torch"
   ]
  },
  {
   "cell_type": "code",
   "execution_count": 2,
   "metadata": {},
   "outputs": [],
   "source": [
    "device = 'cuda:2' if torch.cuda.is_available() else 'cpu'\n",
    "g_all = nn.Sequential(OrderedDict([('g_mapping', G_mapping()),\n",
    "    #('truncation', Truncation(avg_latent)),\n",
    "    ('g_synthesis', G_synthesis(resolution=1024))    \n",
    "    ]))\n",
    "\n",
    "opts = {'mapping_layers': 8, 'truncation_psi': -1.}\n",
    "'''g_all = Generator(resolution=1024,\n",
    "                    num_channels=3,\n",
    "                    structure='linear',\n",
    "                    **opts)'''\n",
    "g_all = nn.Sequential(OrderedDict([('g_mapping', GMapping()),\n",
    "    #('truncation', Truncation(avg_latent)),\n",
    "    ('g_synthesis', GSynthesis(resolution=1024, depth=8))    \n",
    "    ]))\n",
    "#Load the pre-trained model\n",
    "g_all.load_state_dict(torch.load('/data1/jessica/data/labelGAN/checkpoints/styleGAN/GAN_GEN_8.pth', map_location=device), strict=False)\n",
    "g_all.eval()\n",
    "g_all.to(device)\n",
    "g_mapping, g_synthesis = g_all[0], g_all[1]"
   ]
  },
  {
   "cell_type": "code",
   "execution_count": 3,
   "metadata": {},
   "outputs": [],
   "source": [
    "def get_sampls(kde):\n",
    "    # Generate a set of points at which to evaluate the PDF\n",
    "    x_grid = np.linspace(-3, 3, 1000)\n",
    "\n",
    "    # Compute the estimated PDF at the evaluation points\n",
    "    pdf_vals = np.exp(kde.score_samples(x_grid.reshape(-1, 1)))\n",
    "\n",
    "    # Compute the CDF of the estimated PDF\n",
    "    cdf_vals = np.cumsum(pdf_vals) / np.sum(pdf_vals)\n",
    "\n",
    "    # Generate 100 new samples using inverse transform sampling\n",
    "    u = np.random.uniform(size=100)\n",
    "    new_samples = np.interp(u, cdf_vals, x_grid)\n",
    "    return new_samples"
   ]
  },
  {
   "cell_type": "code",
   "execution_count": 6,
   "metadata": {},
   "outputs": [
    {
     "name": "stdout",
     "output_type": "stream",
     "text": [
      "No finding\n",
      "Aortic enlargement\n",
      "Pleural thickening\n",
      "ILD\n",
      "Nodule/Mass\n",
      "Pulmonary fibrosis\n",
      "Cardiomegaly\n",
      "Pleural effusion\n",
      "Calcification\n",
      "Other lesion\n",
      "Lung Opacity\n",
      "Infiltration\n",
      "Consolidation\n",
      "Atelectasis\n",
      "Pneumothorax\n"
     ]
    }
   ],
   "source": [
    "image_latents_names = [elem.replace(\"latent_\", \"\").replace(\".npy\", \"\") for elem in os.listdir('/home/jessica/labelGAN/Image2StyleGAN/images/latents')]\n",
    "df = pd.read_csv(\"vinbig_25_samples.csv\")\n",
    "df_sampled = df[df.image_id.isin(image_latents_names)]\n",
    "kernel = 'tophat'\n",
    "for class_name in df.class_name.unique():\n",
    "   print(class_name)\n",
    "   test = df_sampled[df_sampled.class_name == class_name].image_id\n",
    "   class_name = class_name.replace(\"/\", \"\").replace(\" \", \"\")\n",
    "   images = test.apply(lambda x: np.load(\"./images/latents/latent_\" + x + \".npy\"))\n",
    "   if len(images) == 0: continue\n",
    "   t = np.concatenate(np.array(images), axis=0)\n",
    "   t = t.reshape(t.shape[0], -1)# create an array of samples\n",
    "   samples = np.array(t)\n",
    "\n",
    "   # fit a kernel density estimator to the samples\n",
    "   kde = KernelDensity(bandwidth=0.5, kernel=kernel)\n",
    "   kde.fit(samples)\n",
    "\n",
    "   # sample from the kde\n",
    "   new_samples = kde.sample(100)\n",
    "   for i, latents in enumerate(new_samples):\n",
    "      latents = torch.tensor(latents.reshape(1, 18, 512)).to(\"cuda:2\").float()\n",
    "      np.save(f\"./images/generated_latents_from_class_distr/{class_name}_{i}_{kernel}.npy\", latents.cpu())\n",
    "      syn_img = g_synthesis(latents, depth=8)\n",
    "      syn_img = (syn_img+1.0)/2.0\n",
    "      save_image(syn_img.clamp(0,1),f\"./images/generated_images_from_class_distr/{class_name}_{i}_{kernel}.png\")"
   ]
  },
  {
   "cell_type": "code",
   "execution_count": 7,
   "metadata": {},
   "outputs": [
    {
     "data": {
      "text/html": [
       "<div>\n",
       "<style scoped>\n",
       "    .dataframe tbody tr th:only-of-type {\n",
       "        vertical-align: middle;\n",
       "    }\n",
       "\n",
       "    .dataframe tbody tr th {\n",
       "        vertical-align: top;\n",
       "    }\n",
       "\n",
       "    .dataframe thead th {\n",
       "        text-align: right;\n",
       "    }\n",
       "</style>\n",
       "<table border=\"1\" class=\"dataframe\">\n",
       "  <thead>\n",
       "    <tr style=\"text-align: right;\">\n",
       "      <th></th>\n",
       "      <th>Unnamed: 0</th>\n",
       "      <th>image_id</th>\n",
       "      <th>class_name</th>\n",
       "      <th>class_id</th>\n",
       "      <th>rad_id</th>\n",
       "      <th>x_min</th>\n",
       "      <th>y_min</th>\n",
       "      <th>x_max</th>\n",
       "      <th>y_max</th>\n",
       "    </tr>\n",
       "  </thead>\n",
       "  <tbody>\n",
       "    <tr>\n",
       "      <th>0</th>\n",
       "      <td>1</td>\n",
       "      <td>21a10246a5ec7af151081d0cd6d65dc9</td>\n",
       "      <td>No finding</td>\n",
       "      <td>14</td>\n",
       "      <td>R7</td>\n",
       "      <td>NaN</td>\n",
       "      <td>NaN</td>\n",
       "      <td>NaN</td>\n",
       "      <td>NaN</td>\n",
       "    </tr>\n",
       "    <tr>\n",
       "      <th>1</th>\n",
       "      <td>4</td>\n",
       "      <td>063319de25ce7edb9b1c6b8881290140</td>\n",
       "      <td>No finding</td>\n",
       "      <td>14</td>\n",
       "      <td>R10</td>\n",
       "      <td>NaN</td>\n",
       "      <td>NaN</td>\n",
       "      <td>NaN</td>\n",
       "      <td>NaN</td>\n",
       "    </tr>\n",
       "    <tr>\n",
       "      <th>2</th>\n",
       "      <td>33</td>\n",
       "      <td>42d472bdda3ad93dac63c8e5e29977bb</td>\n",
       "      <td>No finding</td>\n",
       "      <td>14</td>\n",
       "      <td>R9</td>\n",
       "      <td>NaN</td>\n",
       "      <td>NaN</td>\n",
       "      <td>NaN</td>\n",
       "      <td>NaN</td>\n",
       "    </tr>\n",
       "    <tr>\n",
       "      <th>3</th>\n",
       "      <td>34</td>\n",
       "      <td>2b1293d9c276e5439e499f58ce2e31ab</td>\n",
       "      <td>No finding</td>\n",
       "      <td>14</td>\n",
       "      <td>R8</td>\n",
       "      <td>NaN</td>\n",
       "      <td>NaN</td>\n",
       "      <td>NaN</td>\n",
       "      <td>NaN</td>\n",
       "    </tr>\n",
       "    <tr>\n",
       "      <th>4</th>\n",
       "      <td>65</td>\n",
       "      <td>2561ba15f063a8e3a0322ad943738bb5</td>\n",
       "      <td>No finding</td>\n",
       "      <td>14</td>\n",
       "      <td>R2</td>\n",
       "      <td>NaN</td>\n",
       "      <td>NaN</td>\n",
       "      <td>NaN</td>\n",
       "      <td>NaN</td>\n",
       "    </tr>\n",
       "    <tr>\n",
       "      <th>...</th>\n",
       "      <td>...</td>\n",
       "      <td>...</td>\n",
       "      <td>...</td>\n",
       "      <td>...</td>\n",
       "      <td>...</td>\n",
       "      <td>...</td>\n",
       "      <td>...</td>\n",
       "      <td>...</td>\n",
       "      <td>...</td>\n",
       "    </tr>\n",
       "    <tr>\n",
       "      <th>370</th>\n",
       "      <td>14749</td>\n",
       "      <td>31ffa866e091965da25a408b4cc7d0db</td>\n",
       "      <td>Pneumothorax</td>\n",
       "      <td>12</td>\n",
       "      <td>R9</td>\n",
       "      <td>1212.0</td>\n",
       "      <td>355.0</td>\n",
       "      <td>1868.0</td>\n",
       "      <td>1192.0</td>\n",
       "    </tr>\n",
       "    <tr>\n",
       "      <th>371</th>\n",
       "      <td>15725</td>\n",
       "      <td>0f45742c4d100eeee221f8853d79c9d4</td>\n",
       "      <td>Pneumothorax</td>\n",
       "      <td>12</td>\n",
       "      <td>R10</td>\n",
       "      <td>308.0</td>\n",
       "      <td>1511.0</td>\n",
       "      <td>430.0</td>\n",
       "      <td>1669.0</td>\n",
       "    </tr>\n",
       "    <tr>\n",
       "      <th>372</th>\n",
       "      <td>15862</td>\n",
       "      <td>3c63e58fcda26e02fdd6619515399985</td>\n",
       "      <td>Pneumothorax</td>\n",
       "      <td>12</td>\n",
       "      <td>R9</td>\n",
       "      <td>226.0</td>\n",
       "      <td>340.0</td>\n",
       "      <td>950.0</td>\n",
       "      <td>1327.0</td>\n",
       "    </tr>\n",
       "    <tr>\n",
       "      <th>373</th>\n",
       "      <td>16769</td>\n",
       "      <td>393909c0d12d67fd08703d36970014e8</td>\n",
       "      <td>Pneumothorax</td>\n",
       "      <td>12</td>\n",
       "      <td>R10</td>\n",
       "      <td>1817.0</td>\n",
       "      <td>515.0</td>\n",
       "      <td>2249.0</td>\n",
       "      <td>1485.0</td>\n",
       "    </tr>\n",
       "    <tr>\n",
       "      <th>374</th>\n",
       "      <td>19158</td>\n",
       "      <td>43cbc92d48a9318036e947277c3981fd</td>\n",
       "      <td>Pneumothorax</td>\n",
       "      <td>12</td>\n",
       "      <td>R8</td>\n",
       "      <td>1254.0</td>\n",
       "      <td>517.0</td>\n",
       "      <td>1696.0</td>\n",
       "      <td>677.0</td>\n",
       "    </tr>\n",
       "  </tbody>\n",
       "</table>\n",
       "<p>375 rows × 9 columns</p>\n",
       "</div>"
      ],
      "text/plain": [
       "     Unnamed: 0                          image_id    class_name  class_id  \\\n",
       "0             1  21a10246a5ec7af151081d0cd6d65dc9    No finding        14   \n",
       "1             4  063319de25ce7edb9b1c6b8881290140    No finding        14   \n",
       "2            33  42d472bdda3ad93dac63c8e5e29977bb    No finding        14   \n",
       "3            34  2b1293d9c276e5439e499f58ce2e31ab    No finding        14   \n",
       "4            65  2561ba15f063a8e3a0322ad943738bb5    No finding        14   \n",
       "..          ...                               ...           ...       ...   \n",
       "370       14749  31ffa866e091965da25a408b4cc7d0db  Pneumothorax        12   \n",
       "371       15725  0f45742c4d100eeee221f8853d79c9d4  Pneumothorax        12   \n",
       "372       15862  3c63e58fcda26e02fdd6619515399985  Pneumothorax        12   \n",
       "373       16769  393909c0d12d67fd08703d36970014e8  Pneumothorax        12   \n",
       "374       19158  43cbc92d48a9318036e947277c3981fd  Pneumothorax        12   \n",
       "\n",
       "    rad_id   x_min   y_min   x_max   y_max  \n",
       "0       R7     NaN     NaN     NaN     NaN  \n",
       "1      R10     NaN     NaN     NaN     NaN  \n",
       "2       R9     NaN     NaN     NaN     NaN  \n",
       "3       R8     NaN     NaN     NaN     NaN  \n",
       "4       R2     NaN     NaN     NaN     NaN  \n",
       "..     ...     ...     ...     ...     ...  \n",
       "370     R9  1212.0   355.0  1868.0  1192.0  \n",
       "371    R10   308.0  1511.0   430.0  1669.0  \n",
       "372     R9   226.0   340.0   950.0  1327.0  \n",
       "373    R10  1817.0   515.0  2249.0  1485.0  \n",
       "374     R8  1254.0   517.0  1696.0   677.0  \n",
       "\n",
       "[375 rows x 9 columns]"
      ]
     },
     "execution_count": 7,
     "metadata": {},
     "output_type": "execute_result"
    }
   ],
   "source": [
    "df.image_id == image_id"
   ]
  },
  {
   "cell_type": "code",
   "execution_count": 24,
   "metadata": {},
   "outputs": [],
   "source": [
    "latents = []\n",
    "p = '/home/jessica/labelGAN/Image2StyleGAN/images/generated_latents_from_class_distr/'\n",
    "for i, elem in enumerate(os.listdir(p)):\n",
    "    latents.append(np.load(p + elem ))\n",
    "    \n",
    "    "
   ]
  },
  {
   "cell_type": "code",
   "execution_count": 27,
   "metadata": {},
   "outputs": [
    {
     "data": {
      "text/plain": [
       "1804"
      ]
     },
     "execution_count": 27,
     "metadata": {},
     "output_type": "execute_result"
    }
   ],
   "source": [
    "len(os.listdir(p))"
   ]
  },
  {
   "cell_type": "code",
   "execution_count": 26,
   "metadata": {},
   "outputs": [
    {
     "data": {
      "text/plain": [
       "(1804, 1, 18, 512)"
      ]
     },
     "execution_count": 26,
     "metadata": {},
     "output_type": "execute_result"
    }
   ],
   "source": [
    "np.array(latents).shape"
   ]
  },
  {
   "cell_type": "code",
   "execution_count": 22,
   "metadata": {},
   "outputs": [],
   "source": [
    "path = '/home/jessica/labelGAN/Image2StyleGAN/images/generated_latents_from_class_distr/Atelectasis_1_tophat.npy'\n",
    "a = np.load(path)"
   ]
  },
  {
   "cell_type": "code",
   "execution_count": 23,
   "metadata": {},
   "outputs": [
    {
     "data": {
      "text/plain": [
       "(1, 18, 512)"
      ]
     },
     "execution_count": 23,
     "metadata": {},
     "output_type": "execute_result"
    }
   ],
   "source": [
    "a.shape"
   ]
  },
  {
   "cell_type": "code",
   "execution_count": null,
   "metadata": {},
   "outputs": [],
   "source": []
  }
 ],
 "metadata": {
  "kernelspec": {
   "display_name": "Python 3",
   "language": "python",
   "name": "python3"
  },
  "language_info": {
   "codemirror_mode": {
    "name": "ipython",
    "version": 3
   },
   "file_extension": ".py",
   "mimetype": "text/x-python",
   "name": "python",
   "nbconvert_exporter": "python",
   "pygments_lexer": "ipython3",
   "version": "3.10.6"
  },
  "orig_nbformat": 4
 },
 "nbformat": 4,
 "nbformat_minor": 2
}
