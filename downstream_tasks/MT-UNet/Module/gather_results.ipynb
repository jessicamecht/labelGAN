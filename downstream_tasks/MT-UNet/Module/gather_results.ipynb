{
 "cells": [
  {
   "cell_type": "code",
   "execution_count": 52,
   "metadata": {},
   "outputs": [],
   "source": [
    "import pandas as pd\n",
    "import os \n",
    "import torch"
   ]
  },
  {
   "cell_type": "code",
   "execution_count": 53,
   "metadata": {},
   "outputs": [],
   "source": [
    "p = '/data1/shared/jessica/drive_data/results/'"
   ]
  },
  {
   "cell_type": "code",
   "execution_count": 54,
   "metadata": {},
   "outputs": [
    {
     "name": "stdout",
     "output_type": "stream",
     "text": [
      "baseline__400\n",
      "baseline__200\n",
      "Embedded_KDE__100\n",
      "KDE_Embedded__100\n",
      "Embedded__200\n",
      "None__None\n",
      "KDE_Embedded__25\n",
      "Embedded__50\n",
      "Embedded_KDE__200\n",
      "KDE__400\n",
      "KDE_Embedded__200\n",
      "KDE__201\n",
      "KDE__50\n",
      "baseline__2090\n",
      "None__50\n",
      "KDE__200\n",
      "Embedded_KDE__25\n",
      "baseline__50\n",
      "Embedded__400\n",
      "KDE_Embedded__400\n"
     ]
    }
   ],
   "source": [
    "index = []\n",
    "df_rows = []\n",
    "for elem in os.listdir(p):\n",
    "    name = ((elem.split(\"aug\")[1] + elem.split(\"aug\")[2]).replace(\"_use\", \"\")[1:-1]).replace(\"type_\", \"\").replace(\"_size\", \"\")\n",
    "    print(name)\n",
    "\n",
    "    path = p + elem + '/result.txt'\n",
    "    if os.path.exists(path):\n",
    "        index.append(name)\n",
    "        with open(path, \"r\") as file:\n",
    "            contents = file.read()\n",
    "            df_rows.append([float(elem.split(\":\")[1].replace(\" \", \"\")) for elem in contents.split(\",\")])\n"
   ]
  },
  {
   "cell_type": "code",
   "execution_count": 55,
   "metadata": {},
   "outputs": [],
   "source": [
    "df = pd.DataFrame(df_rows)"
   ]
  },
  {
   "cell_type": "code",
   "execution_count": 56,
   "metadata": {},
   "outputs": [],
   "source": [
    "df.columns = ['IoU', 'DSC', 'aACC', 'pACC', 'bACC']\n",
    "df.index = index"
   ]
  },
  {
   "cell_type": "code",
   "execution_count": 57,
   "metadata": {},
   "outputs": [
    {
     "data": {
      "text/html": [
       "<div>\n",
       "<style scoped>\n",
       "    .dataframe tbody tr th:only-of-type {\n",
       "        vertical-align: middle;\n",
       "    }\n",
       "\n",
       "    .dataframe tbody tr th {\n",
       "        vertical-align: top;\n",
       "    }\n",
       "\n",
       "    .dataframe thead th {\n",
       "        text-align: right;\n",
       "    }\n",
       "</style>\n",
       "<table border=\"1\" class=\"dataframe\">\n",
       "  <thead>\n",
       "    <tr style=\"text-align: right;\">\n",
       "      <th></th>\n",
       "      <th>pACC</th>\n",
       "      <th>IoU</th>\n",
       "      <th>DSC</th>\n",
       "      <th>aACC</th>\n",
       "      <th>bACC</th>\n",
       "    </tr>\n",
       "  </thead>\n",
       "  <tbody>\n",
       "    <tr>\n",
       "      <th>Embedded_KDE__100</th>\n",
       "      <td>0.890</td>\n",
       "      <td>0.774</td>\n",
       "      <td>0.933</td>\n",
       "      <td>0.444</td>\n",
       "      <td>0.444</td>\n",
       "    </tr>\n",
       "    <tr>\n",
       "      <th>Embedded_KDE__200</th>\n",
       "      <td>0.885</td>\n",
       "      <td>0.687</td>\n",
       "      <td>0.894</td>\n",
       "      <td>0.489</td>\n",
       "      <td>0.489</td>\n",
       "    </tr>\n",
       "    <tr>\n",
       "      <th>Embedded_KDE__25</th>\n",
       "      <td>0.929</td>\n",
       "      <td>0.583</td>\n",
       "      <td>0.827</td>\n",
       "      <td>0.089</td>\n",
       "      <td>0.089</td>\n",
       "    </tr>\n",
       "    <tr>\n",
       "      <th>Embedded__200</th>\n",
       "      <td>0.860</td>\n",
       "      <td>0.678</td>\n",
       "      <td>0.895</td>\n",
       "      <td>0.489</td>\n",
       "      <td>0.489</td>\n",
       "    </tr>\n",
       "    <tr>\n",
       "      <th>Embedded__400</th>\n",
       "      <td>0.882</td>\n",
       "      <td>0.718</td>\n",
       "      <td>0.910</td>\n",
       "      <td>0.556</td>\n",
       "      <td>0.556</td>\n",
       "    </tr>\n",
       "    <tr>\n",
       "      <th>Embedded__50</th>\n",
       "      <td>0.904</td>\n",
       "      <td>0.662</td>\n",
       "      <td>0.877</td>\n",
       "      <td>0.511</td>\n",
       "      <td>0.511</td>\n",
       "    </tr>\n",
       "    <tr>\n",
       "      <th>KDE__200</th>\n",
       "      <td>0.788</td>\n",
       "      <td>0.713</td>\n",
       "      <td>0.916</td>\n",
       "      <td>0.533</td>\n",
       "      <td>0.533</td>\n",
       "    </tr>\n",
       "    <tr>\n",
       "      <th>KDE__400</th>\n",
       "      <td>0.779</td>\n",
       "      <td>0.706</td>\n",
       "      <td>0.915</td>\n",
       "      <td>0.378</td>\n",
       "      <td>0.378</td>\n",
       "    </tr>\n",
       "    <tr>\n",
       "      <th>KDE__50</th>\n",
       "      <td>0.777</td>\n",
       "      <td>0.519</td>\n",
       "      <td>0.811</td>\n",
       "      <td>0.022</td>\n",
       "      <td>0.022</td>\n",
       "    </tr>\n",
       "    <tr>\n",
       "      <th>None__None</th>\n",
       "      <td>0.861</td>\n",
       "      <td>0.660</td>\n",
       "      <td>0.881</td>\n",
       "      <td>0.467</td>\n",
       "      <td>0.467</td>\n",
       "    </tr>\n",
       "    <tr>\n",
       "      <th>baseline__200</th>\n",
       "      <td>0.940</td>\n",
       "      <td>0.609</td>\n",
       "      <td>0.837</td>\n",
       "      <td>0.511</td>\n",
       "      <td>0.511</td>\n",
       "    </tr>\n",
       "    <tr>\n",
       "      <th>baseline__400</th>\n",
       "      <td>0.939</td>\n",
       "      <td>0.761</td>\n",
       "      <td>0.917</td>\n",
       "      <td>0.644</td>\n",
       "      <td>0.644</td>\n",
       "    </tr>\n",
       "    <tr>\n",
       "      <th>baseline__50</th>\n",
       "      <td>0.761</td>\n",
       "      <td>0.590</td>\n",
       "      <td>0.857</td>\n",
       "      <td>0.578</td>\n",
       "      <td>0.578</td>\n",
       "    </tr>\n",
       "  </tbody>\n",
       "</table>\n",
       "</div>"
      ],
      "text/plain": [
       "                    pACC    IoU    DSC   aACC   bACC\n",
       "Embedded_KDE__100  0.890  0.774  0.933  0.444  0.444\n",
       "Embedded_KDE__200  0.885  0.687  0.894  0.489  0.489\n",
       "Embedded_KDE__25   0.929  0.583  0.827  0.089  0.089\n",
       "Embedded__200      0.860  0.678  0.895  0.489  0.489\n",
       "Embedded__400      0.882  0.718  0.910  0.556  0.556\n",
       "Embedded__50       0.904  0.662  0.877  0.511  0.511\n",
       "KDE__200           0.788  0.713  0.916  0.533  0.533\n",
       "KDE__400           0.779  0.706  0.915  0.378  0.378\n",
       "KDE__50            0.777  0.519  0.811  0.022  0.022\n",
       "None__None         0.861  0.660  0.881  0.467  0.467\n",
       "baseline__200      0.940  0.609  0.837  0.511  0.511\n",
       "baseline__400      0.939  0.761  0.917  0.644  0.644\n",
       "baseline__50       0.761  0.590  0.857  0.578  0.578"
      ]
     },
     "execution_count": 57,
     "metadata": {},
     "output_type": "execute_result"
    }
   ],
   "source": [
    "df[['pACC', 'IoU', 'DSC', 'aACC', 'bACC']].sort_index()"
   ]
  },
  {
   "cell_type": "code",
   "execution_count": 64,
   "metadata": {},
   "outputs": [],
   "source": [
    "def get_binary_acc(pred, target):\n",
    "    target = target.squeeze(0)\n",
    "    pred = pred.squeeze(0)\n",
    "    pred = pred > 0.5\n",
    "    \n",
    "    if target[8].item() == 1:\n",
    "        if pred[8].long().item() == 1: \n",
    "            return 1\n",
    "        else: \n",
    "            return 0\n",
    "    else:\n",
    "        return torch.any(torch.logical_and(pred, target)).long().item()"
   ]
  },
  {
   "cell_type": "code",
   "execution_count": 65,
   "metadata": {},
   "outputs": [],
   "source": [
    "pred = torch.tensor([0,0,1,0,0,0,0,0,0,0])\n",
    "target = torch.tensor([0,0,1,0,1,0,0,0,0,0])"
   ]
  },
  {
   "cell_type": "code",
   "execution_count": 66,
   "metadata": {},
   "outputs": [],
   "source": [
    "def get_atleast_one_metric(pred, target):\n",
    "    pred = pred > 0.5\n",
    "    return torch.any(torch.logical_and(pred, target)).long().item()"
   ]
  },
  {
   "cell_type": "code",
   "execution_count": 67,
   "metadata": {},
   "outputs": [
    {
     "data": {
      "text/plain": [
       "(1, 1)"
      ]
     },
     "execution_count": 67,
     "metadata": {},
     "output_type": "execute_result"
    }
   ],
   "source": [
    "get_atleast_one_metric(pred, target), get_binary_acc(pred, target)"
   ]
  },
  {
   "cell_type": "code",
   "execution_count": null,
   "metadata": {},
   "outputs": [],
   "source": []
  }
 ],
 "metadata": {
  "kernelspec": {
   "display_name": "Python 3",
   "language": "python",
   "name": "python3"
  },
  "language_info": {
   "codemirror_mode": {
    "name": "ipython",
    "version": 3
   },
   "file_extension": ".py",
   "mimetype": "text/x-python",
   "name": "python",
   "nbconvert_exporter": "python",
   "pygments_lexer": "ipython3",
   "version": "3.10.6"
  },
  "orig_nbformat": 4
 },
 "nbformat": 4,
 "nbformat_minor": 2
}
