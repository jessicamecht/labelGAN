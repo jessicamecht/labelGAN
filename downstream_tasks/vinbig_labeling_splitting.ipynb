{
 "cells": [
  {
   "cell_type": "code",
   "execution_count": 1,
   "id": "d28e6a88",
   "metadata": {},
   "outputs": [],
   "source": [
    "import numpy as np\n",
    "import pandas as pd\n",
    "import pickle\n",
    "import os\n",
    "from sklearn.preprocessing import MultiLabelBinarizer"
   ]
  },
  {
   "cell_type": "code",
   "execution_count": 2,
   "id": "2dc22a8c",
   "metadata": {},
   "outputs": [],
   "source": [
    "vinbig_train_val = pd.read_csv(\"../Image2StyleGAN/vinbig_25_samples.csv\", index_col = 0)"
   ]
  },
  {
   "cell_type": "code",
   "execution_count": 3,
   "id": "67dd3d28",
   "metadata": {},
   "outputs": [],
   "source": [
    "vinbig_test_main = pd.read_csv(\"../Image2StyleGAN/vinbig_25_samples_test.csv\", index_col = 0)"
   ]
  },
  {
   "cell_type": "code",
   "execution_count": 4,
   "id": "ffc41c89",
   "metadata": {},
   "outputs": [
    {
     "data": {
      "text/html": [
       "<div>\n",
       "<style scoped>\n",
       "    .dataframe tbody tr th:only-of-type {\n",
       "        vertical-align: middle;\n",
       "    }\n",
       "\n",
       "    .dataframe tbody tr th {\n",
       "        vertical-align: top;\n",
       "    }\n",
       "\n",
       "    .dataframe thead th {\n",
       "        text-align: right;\n",
       "    }\n",
       "</style>\n",
       "<table border=\"1\" class=\"dataframe\">\n",
       "  <thead>\n",
       "    <tr style=\"text-align: right;\">\n",
       "      <th></th>\n",
       "      <th>image_id</th>\n",
       "      <th>class_name</th>\n",
       "      <th>class_id</th>\n",
       "      <th>rad_id</th>\n",
       "      <th>x_min</th>\n",
       "      <th>y_min</th>\n",
       "      <th>x_max</th>\n",
       "      <th>y_max</th>\n",
       "    </tr>\n",
       "  </thead>\n",
       "  <tbody>\n",
       "    <tr>\n",
       "      <th>1</th>\n",
       "      <td>21a10246a5ec7af151081d0cd6d65dc9</td>\n",
       "      <td>No finding</td>\n",
       "      <td>14</td>\n",
       "      <td>R7</td>\n",
       "      <td>NaN</td>\n",
       "      <td>NaN</td>\n",
       "      <td>NaN</td>\n",
       "      <td>NaN</td>\n",
       "    </tr>\n",
       "    <tr>\n",
       "      <th>4</th>\n",
       "      <td>063319de25ce7edb9b1c6b8881290140</td>\n",
       "      <td>No finding</td>\n",
       "      <td>14</td>\n",
       "      <td>R10</td>\n",
       "      <td>NaN</td>\n",
       "      <td>NaN</td>\n",
       "      <td>NaN</td>\n",
       "      <td>NaN</td>\n",
       "    </tr>\n",
       "    <tr>\n",
       "      <th>33</th>\n",
       "      <td>42d472bdda3ad93dac63c8e5e29977bb</td>\n",
       "      <td>No finding</td>\n",
       "      <td>14</td>\n",
       "      <td>R9</td>\n",
       "      <td>NaN</td>\n",
       "      <td>NaN</td>\n",
       "      <td>NaN</td>\n",
       "      <td>NaN</td>\n",
       "    </tr>\n",
       "    <tr>\n",
       "      <th>34</th>\n",
       "      <td>2b1293d9c276e5439e499f58ce2e31ab</td>\n",
       "      <td>No finding</td>\n",
       "      <td>14</td>\n",
       "      <td>R8</td>\n",
       "      <td>NaN</td>\n",
       "      <td>NaN</td>\n",
       "      <td>NaN</td>\n",
       "      <td>NaN</td>\n",
       "    </tr>\n",
       "    <tr>\n",
       "      <th>65</th>\n",
       "      <td>2561ba15f063a8e3a0322ad943738bb5</td>\n",
       "      <td>No finding</td>\n",
       "      <td>14</td>\n",
       "      <td>R2</td>\n",
       "      <td>NaN</td>\n",
       "      <td>NaN</td>\n",
       "      <td>NaN</td>\n",
       "      <td>NaN</td>\n",
       "    </tr>\n",
       "  </tbody>\n",
       "</table>\n",
       "</div>"
      ],
      "text/plain": [
       "                            image_id  class_name  class_id rad_id  x_min  \\\n",
       "1   21a10246a5ec7af151081d0cd6d65dc9  No finding        14     R7    NaN   \n",
       "4   063319de25ce7edb9b1c6b8881290140  No finding        14    R10    NaN   \n",
       "33  42d472bdda3ad93dac63c8e5e29977bb  No finding        14     R9    NaN   \n",
       "34  2b1293d9c276e5439e499f58ce2e31ab  No finding        14     R8    NaN   \n",
       "65  2561ba15f063a8e3a0322ad943738bb5  No finding        14     R2    NaN   \n",
       "\n",
       "    y_min  x_max  y_max  \n",
       "1     NaN    NaN    NaN  \n",
       "4     NaN    NaN    NaN  \n",
       "33    NaN    NaN    NaN  \n",
       "34    NaN    NaN    NaN  \n",
       "65    NaN    NaN    NaN  "
      ]
     },
     "execution_count": 4,
     "metadata": {},
     "output_type": "execute_result"
    }
   ],
   "source": [
    "vinbig_train_val.head()"
   ]
  },
  {
   "cell_type": "code",
   "execution_count": 5,
   "id": "da4adc78",
   "metadata": {},
   "outputs": [
    {
     "data": {
      "text/plain": [
       "array(['No finding', 'Aortic enlargement', 'Pleural thickening', 'ILD',\n",
       "       'Nodule/Mass', 'Pulmonary fibrosis', 'Cardiomegaly',\n",
       "       'Pleural effusion', 'Calcification', 'Other lesion',\n",
       "       'Lung Opacity', 'Infiltration', 'Consolidation', 'Atelectasis',\n",
       "       'Pneumothorax'], dtype=object)"
      ]
     },
     "execution_count": 5,
     "metadata": {},
     "output_type": "execute_result"
    }
   ],
   "source": [
    "vinbig_train_val[\"class_name\"].unique()"
   ]
  },
  {
   "cell_type": "code",
   "execution_count": 6,
   "id": "edf81818",
   "metadata": {},
   "outputs": [],
   "source": [
    "# get train images\n",
    "with open('vinbig/train_list.txt') as f:\n",
    "    train = f.readlines()\n",
    "\n",
    "# get val images\n",
    "with open('vinbig/val_list.txt') as f:\n",
    "    val = f.readlines()\n",
    "\n",
    "# get test images\n",
    "with open('vinbig/test_list.txt') as f:\n",
    "    test = f.readlines()"
   ]
  },
  {
   "cell_type": "code",
   "execution_count": 7,
   "id": "d960b70b",
   "metadata": {},
   "outputs": [],
   "source": [
    "train_image_ids = [train_image_id.strip().replace(\"./train/\", \"\").replace(\".png\", \"\") for train_image_id in train]\n",
    "val_image_ids = [val_image_id.strip().replace(\"./train/\", \"\").replace(\".png\", \"\") for val_image_id in val]\n",
    "test_image_ids = [test_image_id.strip().replace(\"./test/\", \"\").replace(\".png\", \"\") for test_image_id in test]"
   ]
  },
  {
   "cell_type": "code",
   "execution_count": 8,
   "id": "5cf8f2f5",
   "metadata": {},
   "outputs": [],
   "source": [
    "vinbig_train = vinbig_train_val[vinbig_train_val[\"image_id\"].isin(train_image_ids)]\n",
    "vinbig_val = vinbig_train_val[vinbig_train_val[\"image_id\"].isin(val_image_ids)]\n",
    "vinbig_test = vinbig_test_main[vinbig_test_main[\"image_id\"].isin(test_image_ids)]"
   ]
  },
  {
   "cell_type": "code",
   "execution_count": 9,
   "id": "e9267f92",
   "metadata": {},
   "outputs": [
    {
     "data": {
      "text/plain": [
       "(270, 105, 375)"
      ]
     },
     "execution_count": 9,
     "metadata": {},
     "output_type": "execute_result"
    }
   ],
   "source": [
    "vinbig_train.shape[0], vinbig_val.shape[0], vinbig_train_val.shape[0]"
   ]
  },
  {
   "cell_type": "code",
   "execution_count": 10,
   "id": "b26c5f42",
   "metadata": {},
   "outputs": [
    {
     "data": {
      "text/plain": [
       "(367, 367)"
      ]
     },
     "execution_count": 10,
     "metadata": {},
     "output_type": "execute_result"
    }
   ],
   "source": [
    "vinbig_test_main.shape[0], vinbig_test.shape[0]"
   ]
  },
  {
   "cell_type": "code",
   "execution_count": 11,
   "id": "3eb792f1",
   "metadata": {},
   "outputs": [],
   "source": [
    "# construct train/val/test files\n",
    "def dump_image_sets(file_list, binarized_label_list, set_name = \"train\", folder = \"train\"):\n",
    "    images_f = open(f\"{set_name}_binarized_list.txt\", \"w\")\n",
    "    for idx, file in enumerate(file_list):\n",
    "        images_f.write(f\"./{folder}/{file}.png {' '.join(map(str, list(binarized_label_list[idx])))}\" + os.linesep)\n",
    "    images_f.close()\n",
    "\n",
    "def construct_files(vinbig_df, dataset, path):\n",
    "    image_ids = []\n",
    "    label_lists = []\n",
    "    for image_id in vinbig_df[\"image_id\"].unique():\n",
    "        labels = set(vinbig_df.query(f\"image_id=='{image_id}'\")[\"class_name\"].values)\n",
    "        image_ids.append(image_id)\n",
    "        label_lists.append(labels)\n",
    "        \n",
    "    mlb = MultiLabelBinarizer(classes=['Aortic enlargement', 'Atelectasis', 'Calcification',\n",
    "       'Cardiomegaly', 'Consolidation', 'ILD', 'Infiltration',\n",
    "       'Lung Opacity', 'No finding', 'Nodule/Mass', 'Other lesion',\n",
    "       'Pleural effusion', 'Pleural thickening', 'Pneumothorax',\n",
    "       'Pulmonary fibrosis'])\n",
    "\n",
    "    binarized_labels = mlb.fit_transform([label for label in label_lists])\n",
    "    \n",
    "    dump_image_sets(image_ids, binarized_labels, dataset, path)"
   ]
  },
  {
   "cell_type": "code",
   "execution_count": 12,
   "id": "c840b6a9",
   "metadata": {},
   "outputs": [],
   "source": [
    "construct_files(vinbig_train, \"train\", \"train\")\n",
    "construct_files(vinbig_val, \"val\", \"train\")\n",
    "construct_files(vinbig_test, \"test\", \"test\")"
   ]
  }
 ],
 "metadata": {
  "kernelspec": {
   "display_name": "Python 3 (ipykernel)",
   "language": "python",
   "name": "python3"
  },
  "language_info": {
   "codemirror_mode": {
    "name": "ipython",
    "version": 3
   },
   "file_extension": ".py",
   "mimetype": "text/x-python",
   "name": "python",
   "nbconvert_exporter": "python",
   "pygments_lexer": "ipython3",
   "version": "3.9.5"
  }
 },
 "nbformat": 4,
 "nbformat_minor": 5
}
