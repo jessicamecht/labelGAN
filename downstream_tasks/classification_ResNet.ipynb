{
 "cells": [
  {
   "cell_type": "code",
   "execution_count": 1,
   "id": "9d8dabcf",
   "metadata": {},
   "outputs": [],
   "source": [
    "import torch\n",
    "import torch.nn as nn\n",
    "from torch.utils.data import Dataset, DataLoader\n",
    "import torch.optim as optim\n",
    "import numpy as np\n",
    "from tqdm import tqdm\n",
    "\n",
    "import datasets_classification as dataset\n",
    "import resnet"
   ]
  },
  {
   "cell_type": "code",
   "execution_count": 2,
   "id": "038be6fe",
   "metadata": {},
   "outputs": [],
   "source": [
    "device = torch.device(\"cuda:0\" if torch.cuda.is_available() else \"cpu\")"
   ]
  },
  {
   "cell_type": "code",
   "execution_count": 3,
   "id": "c5046f02",
   "metadata": {},
   "outputs": [],
   "source": [
    "images_dir = \"../../data/vinbig_data/\"\n",
    "# get datasets\n",
    "train_set = dataset.get_train_data(images_dir)\n",
    "val_set = dataset.get_val_data(images_dir)\n",
    "test_set = dataset.get_test_data(images_dir)\n",
    "\n",
    "# setup dataloaders\n",
    "batch_size = 16\n",
    "train_dataloader = DataLoader(train_set, batch_size = batch_size, shuffle = True)\n",
    "val_dataloader = DataLoader(val_set, batch_size = batch_size, shuffle = True)\n",
    "test_dataloader = DataLoader(test_set, batch_size = 1, shuffle = True)"
   ]
  },
  {
   "cell_type": "code",
   "execution_count": 13,
   "id": "c00243c4",
   "metadata": {},
   "outputs": [],
   "source": [
    "# load model and setup training parameters\n",
    "model = resnet.ResNet_18(image_channels=1, num_classes=15)\n",
    "model = model.to(device)\n",
    "\n",
    "epochs = 100\n",
    "val_check = 10\n",
    "criterion = nn.BCELoss()\n",
    "optimizer = optim.Adam(model.parameters(), lr=1e-3, weight_decay=1e-4)\n",
    "lr_scheduler = optim.lr_scheduler.ReduceLROnPlateau(optimizer, patience=5, verbose=True)"
   ]
  },
  {
   "cell_type": "code",
   "execution_count": 14,
   "id": "52870765",
   "metadata": {},
   "outputs": [],
   "source": [
    "# train and eval the model\n",
    "def save_ckpt(model, path):\n",
    "    torch.save(model.state_dict(), path) \n",
    "    return\n",
    "\n",
    "def get_metric(pred, target, thresh=0.5):\n",
    "    pred = np.array(pred > thresh, dtype=float)\n",
    "    return f1_score(y_true = target, y_pred = pred, average='samples')\n",
    "\n",
    "def test(model, test_dataloader):\n",
    "    \"\"\"\n",
    "    model = resnet.ResNet_18(image_channels=1, labels=10)\n",
    "    weights = torch.load(model_path)\n",
    "    model.load_state_dict(weights)\n",
    "    \"\"\"\n",
    "    model = model.to(device)\n",
    "    macro_f1 = []\n",
    "    model.eval()\n",
    "    with torch.no_grad():\n",
    "        for data, targets in test_dataloader:\n",
    "            data = data.to(device)\n",
    "            targets = targets.type(torch.int8).to(device)\n",
    "\n",
    "            pred = model(data)\n",
    "            macro_f1.append(get_metric(pred.cpu(), targets.cpu()))\n",
    "    \n",
    "    return np.mean(macro_f1)\n",
    "\n",
    "def validate(model, val_dataloader):\n",
    "    val_losses = []\n",
    "    \n",
    "    model.eval()\n",
    "    for (data, targets) in val_dataloader:\n",
    "        data = data.to(device)\n",
    "        targets = targets.to(device)\n",
    "\n",
    "        pred = model(data)\n",
    "        loss = criterion(pred.type(torch.float), targets.type(torch.float))\n",
    "        val_losses.append(loss.item())\n",
    "    \n",
    "    return np.mean(val_losses)\n",
    "\n",
    "def train(model, train_dataloader, val_dataloader, save_path):\n",
    "    best_loss = np.inf\n",
    "    for epoch in tqdm(range(epochs)):\n",
    "        batch_losses = []\n",
    "        for (imgs, targets) in train_dataloader:\n",
    "            imgs, targets = imgs.to(device), targets.to(device)\n",
    "\n",
    "            optimizer.zero_grad()\n",
    "\n",
    "            pred = model(imgs)\n",
    "            loss = criterion(pred.type(torch.float), targets.type(torch.float))\n",
    "\n",
    "            batch_loss_value = loss.item()\n",
    "            loss.backward()\n",
    "            optimizer.step()\n",
    "\n",
    "            batch_losses.append(batch_loss_value)\n",
    "\n",
    "        loss = np.mean(batch_losses)\n",
    "        print(f\"Epoch: {epoch}\")\n",
    "        print(f\"[TRAIN] Loss: {loss:3f}\")\n",
    "        \n",
    "        if epoch % val_check == 0:\n",
    "            val_loss = validate(model, val_dataloader)\n",
    "        \n",
    "            print(f\"[VALIDATION] Loss: {val_loss:3f}\\n\")\n",
    "\n",
    "            model.train()\n",
    "            if val_loss < best_loss:\n",
    "                best_loss = val_loss\n",
    "                save_ckpt(model, save_path)"
   ]
  },
  {
   "cell_type": "code",
   "execution_count": null,
   "id": "77451513",
   "metadata": {},
   "outputs": [
    {
     "name": "stderr",
     "output_type": "stream",
     "text": [
      "\r",
      "  0%|          | 0/100 [00:00<?, ?it/s]"
     ]
    },
    {
     "name": "stdout",
     "output_type": "stream",
     "text": [
      "Epoch: 0\n",
      "[TRAIN] Loss: 0.347970\n"
     ]
    },
    {
     "name": "stderr",
     "output_type": "stream",
     "text": [
      "\r",
      "  1%|          | 1/100 [00:32<52:48, 32.01s/it]"
     ]
    },
    {
     "name": "stdout",
     "output_type": "stream",
     "text": [
      "[VALIDATION] Loss: 4.551671\n",
      "\n"
     ]
    },
    {
     "name": "stderr",
     "output_type": "stream",
     "text": [
      "\r",
      "  2%|▏         | 2/100 [00:56<44:53, 27.48s/it]"
     ]
    },
    {
     "name": "stdout",
     "output_type": "stream",
     "text": [
      "Epoch: 1\n",
      "[TRAIN] Loss: 0.284181\n"
     ]
    },
    {
     "name": "stderr",
     "output_type": "stream",
     "text": [
      "\r",
      "  3%|▎         | 3/100 [01:19<40:58, 25.34s/it]"
     ]
    },
    {
     "name": "stdout",
     "output_type": "stream",
     "text": [
      "Epoch: 2\n",
      "[TRAIN] Loss: 0.269884\n"
     ]
    },
    {
     "name": "stderr",
     "output_type": "stream",
     "text": [
      "\r",
      "  4%|▍         | 4/100 [01:41<38:58, 24.36s/it]"
     ]
    },
    {
     "name": "stdout",
     "output_type": "stream",
     "text": [
      "Epoch: 3\n",
      "[TRAIN] Loss: 0.266788\n"
     ]
    },
    {
     "name": "stderr",
     "output_type": "stream",
     "text": [
      "\r",
      "  5%|▌         | 5/100 [02:04<37:25, 23.64s/it]"
     ]
    },
    {
     "name": "stdout",
     "output_type": "stream",
     "text": [
      "Epoch: 4\n",
      "[TRAIN] Loss: 0.276969\n"
     ]
    },
    {
     "name": "stderr",
     "output_type": "stream",
     "text": [
      "\r",
      "  6%|▌         | 6/100 [02:26<36:17, 23.17s/it]"
     ]
    },
    {
     "name": "stdout",
     "output_type": "stream",
     "text": [
      "Epoch: 5\n",
      "[TRAIN] Loss: 0.272311\n"
     ]
    },
    {
     "name": "stderr",
     "output_type": "stream",
     "text": [
      "\r",
      "  7%|▋         | 7/100 [02:47<34:57, 22.55s/it]"
     ]
    },
    {
     "name": "stdout",
     "output_type": "stream",
     "text": [
      "Epoch: 6\n",
      "[TRAIN] Loss: 0.262607\n"
     ]
    },
    {
     "name": "stderr",
     "output_type": "stream",
     "text": [
      "\r",
      "  8%|▊         | 8/100 [03:10<34:34, 22.55s/it]"
     ]
    },
    {
     "name": "stdout",
     "output_type": "stream",
     "text": [
      "Epoch: 7\n",
      "[TRAIN] Loss: 0.260606\n"
     ]
    },
    {
     "name": "stderr",
     "output_type": "stream",
     "text": [
      "\r",
      "  9%|▉         | 9/100 [03:32<34:07, 22.50s/it]"
     ]
    },
    {
     "name": "stdout",
     "output_type": "stream",
     "text": [
      "Epoch: 8\n",
      "[TRAIN] Loss: 0.265112\n"
     ]
    },
    {
     "name": "stderr",
     "output_type": "stream",
     "text": [
      "\r",
      " 10%|█         | 10/100 [03:55<33:38, 22.42s/it]"
     ]
    },
    {
     "name": "stdout",
     "output_type": "stream",
     "text": [
      "Epoch: 9\n",
      "[TRAIN] Loss: 0.260651\n",
      "Epoch: 10\n",
      "[TRAIN] Loss: 0.253487\n"
     ]
    },
    {
     "name": "stderr",
     "output_type": "stream",
     "text": [
      "\r",
      " 11%|█         | 11/100 [04:25<37:05, 25.01s/it]"
     ]
    },
    {
     "name": "stdout",
     "output_type": "stream",
     "text": [
      "[VALIDATION] Loss: 0.304771\n",
      "\n"
     ]
    }
   ],
   "source": [
    "train(model, train_dataloader, val_dataloader, \"model_classification_resnet_no_aug\")"
   ]
  },
  {
   "cell_type": "code",
   "execution_count": null,
   "id": "21ed3e78",
   "metadata": {},
   "outputs": [],
   "source": []
  }
 ],
 "metadata": {
  "kernelspec": {
   "display_name": "Python 3 (ipykernel)",
   "language": "python",
   "name": "python3"
  },
  "language_info": {
   "codemirror_mode": {
    "name": "ipython",
    "version": 3
   },
   "file_extension": ".py",
   "mimetype": "text/x-python",
   "name": "python",
   "nbconvert_exporter": "python",
   "pygments_lexer": "ipython3",
   "version": "3.9.5"
  }
 },
 "nbformat": 4,
 "nbformat_minor": 5
}
