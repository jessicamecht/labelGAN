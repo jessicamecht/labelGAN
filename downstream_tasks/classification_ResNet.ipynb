{
 "cells": [
  {
   "cell_type": "code",
   "execution_count": 1,
   "id": "bb71bda6",
   "metadata": {},
   "outputs": [],
   "source": [
    "import torch\n",
    "import torch.nn as nn\n",
    "from torch.utils.data import DataLoader\n",
    "import torch.optim as optim\n",
    "import numpy as np\n",
    "from tqdm import tqdm\n",
    "\n",
    "import datasets_classification as dataset\n",
    "import resnet"
   ]
  },
  {
   "cell_type": "code",
   "execution_count": 2,
   "id": "f3f44fe3",
   "metadata": {},
   "outputs": [],
   "source": [
    "device = torch.device(\"cuda:0\" if torch.cuda.is_available() else \"cpu\")"
   ]
  },
  {
   "cell_type": "code",
   "execution_count": null,
   "id": "ea533a70",
   "metadata": {},
   "outputs": [],
   "source": [
    "train_size = 100\n",
    "use_augmentation = True\n",
    "augmentation_type = \"basic\"\n",
    "augmentation_size = 50\n",
    "model_path = f\"model_{augmentation_type}_aug_{augmentation_size}_train_{train_size}.pt\""
   ]
  },
  {
   "cell_type": "code",
   "execution_count": null,
   "id": "95d38e61",
   "metadata": {},
   "outputs": [],
   "source": [
    "images_dir = \"../../data/vinbig_data/\"\n",
    "# get datasets\n",
    "train_set = dataset.get_train_data(images_dir,\n",
    "                                   train_size = train_size,\n",
    "                                   use_augmentation = use_augmentation,\n",
    "                                   augmentation_type = augmentation_type,\n",
    "                                   augmentation_size = augmentation_size)\n",
    "val_set = dataset.get_val_data(images_dir)\n",
    "test_set = dataset.get_test_data(images_dir)\n",
    "\n",
    "# setup dataloaders\n",
    "batch_size = 8\n",
    "train_dataloader = DataLoader(train_set, batch_size = batch_size, shuffle = True)\n",
    "val_dataloader = DataLoader(val_set, batch_size = batch_size, shuffle = True)\n",
    "test_dataloader = DataLoader(test_set, batch_size = 1, shuffle = True)"
   ]
  },
  {
   "cell_type": "code",
   "execution_count": null,
   "id": "52e352e5",
   "metadata": {},
   "outputs": [],
   "source": [
    "# load model and setup training parameters\n",
    "model = resnet.ResNet_18(image_channels=1, num_classes=15)\n",
    "model = model.to(device)\n",
    "\n",
    "epochs = 10\n",
    "val_check = 10\n",
    "criterion = nn.BCELoss()\n",
    "optimizer = optim.Adam(model.parameters(), lr=1e-3, weight_decay=1e-4)\n",
    "lr_scheduler = optim.lr_scheduler.ReduceLROnPlateau(optimizer, patience=5, verbose=True)"
   ]
  },
  {
   "cell_type": "code",
   "execution_count": null,
   "id": "8ddc226f",
   "metadata": {},
   "outputs": [],
   "source": [
    "# train and eval the model\n",
    "def save_ckpt(model, path):\n",
    "    torch.save(model.state_dict(), os.path.join(\"classification\", path)) \n",
    "    return\n",
    "\n",
    "def get_metric(pred, target, thresh=0.5):\n",
    "    pred = np.array(pred > thresh, dtype=float)\n",
    "    return f1_score(y_true = target, y_pred = pred, average='samples')\n",
    "\n",
    "def test(model, test_dataloader):\n",
    "    model = model.to(device)\n",
    "    macro_f1 = []\n",
    "    model.eval()\n",
    "    with torch.no_grad():\n",
    "        for data, targets in test_dataloader:\n",
    "            data = data.to(device)\n",
    "            targets = targets.type(torch.int8).to(device)\n",
    "\n",
    "            pred = model(data)\n",
    "            macro_f1.append(get_metric(pred.cpu(), targets.cpu()))\n",
    "    \n",
    "    return np.mean(macro_f1)\n",
    "\n",
    "def validate(model, val_dataloader):\n",
    "    val_losses = []\n",
    "    \n",
    "    model.eval()\n",
    "    for (data, targets) in val_dataloader:\n",
    "        data = data.to(device)\n",
    "        targets = targets.to(device)\n",
    "\n",
    "        pred = model(data)\n",
    "        loss = criterion(pred.type(torch.float), targets.type(torch.float))\n",
    "        val_losses.append(loss.item())\n",
    "    \n",
    "    return np.mean(val_losses)\n",
    "\n",
    "def train(model, train_dataloader, val_dataloader, save_path):\n",
    "    print(f\"Training for model: {save_path}\")\n",
    "    \n",
    "    best_loss = np.inf\n",
    "    for epoch in tqdm(range(epochs)):\n",
    "        batch_losses = []\n",
    "        for (imgs, targets) in train_dataloader:\n",
    "            imgs, targets = imgs.to(device), targets.to(device)\n",
    "\n",
    "            optimizer.zero_grad()\n",
    "\n",
    "            pred = model(imgs)\n",
    "            loss = criterion(pred.type(torch.float), targets.type(torch.float))\n",
    "\n",
    "            batch_loss_value = loss.item()\n",
    "            loss.backward()\n",
    "            optimizer.step()\n",
    "\n",
    "            batch_losses.append(batch_loss_value)\n",
    "\n",
    "        loss = np.mean(batch_losses)\n",
    "        print(f\"Epoch: {epoch}\")\n",
    "        print(f\"[TRAIN] Loss: {loss:3f}\")\n",
    "        \n",
    "        if epoch % val_check == 0:\n",
    "            val_loss = validate(model, val_dataloader)\n",
    "        \n",
    "            print(f\"[VALIDATION] Loss: {val_loss:3f}\\n\")\n",
    "\n",
    "            model.train()\n",
    "            if val_loss < best_loss:\n",
    "                best_loss = val_loss\n",
    "                save_ckpt(model, save_path)"
   ]
  },
  {
   "cell_type": "markdown",
   "id": "741b38d6",
   "metadata": {},
   "source": [
    "## Training"
   ]
  },
  {
   "cell_type": "code",
   "execution_count": null,
   "id": "521ca019",
   "metadata": {},
   "outputs": [],
   "source": [
    "train(model, train_dataloader, val_dataloader, model_path)"
   ]
  },
  {
   "cell_type": "code",
   "execution_count": 3,
   "id": "aeab6b1d",
   "metadata": {},
   "outputs": [],
   "source": [
    "torch.cuda.empty_cache()"
   ]
  },
  {
   "cell_type": "markdown",
   "id": "5fa0752c",
   "metadata": {},
   "source": [
    "## Testing"
   ]
  },
  {
   "cell_type": "code",
   "execution_count": null,
   "id": "99877cec",
   "metadata": {},
   "outputs": [],
   "source": [
    "model_names = sorted([i for i in os.listdir('classification') if i.endswith('.pt')])\n",
    "model = resnet.ResNet_18(image_channels=1, num_classes=15)\n",
    "\n",
    "for model_weights_path in model_names:\n",
    "    weights = torch.load(model_weights_path)\n",
    "    model.load_state_dict(weights)\n",
    "    test_score = test(model, test_dataloader)\n",
    "    \n",
    "    print(model, test_score)"
   ]
  }
 ],
 "metadata": {
  "kernelspec": {
   "display_name": "Python 3 (ipykernel)",
   "language": "python",
   "name": "python3"
  },
  "language_info": {
   "codemirror_mode": {
    "name": "ipython",
    "version": 3
   },
   "file_extension": ".py",
   "mimetype": "text/x-python",
   "name": "python",
   "nbconvert_exporter": "python",
   "pygments_lexer": "ipython3",
   "version": "3.9.5"
  }
 },
 "nbformat": 4,
 "nbformat_minor": 5
}
