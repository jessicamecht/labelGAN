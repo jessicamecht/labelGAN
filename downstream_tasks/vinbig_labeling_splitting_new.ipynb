{
 "cells": [
  {
   "cell_type": "code",
   "execution_count": 24,
   "id": "d28e6a88",
   "metadata": {},
   "outputs": [],
   "source": [
    "import numpy as np\n",
    "import pandas as pd\n",
    "import pickle\n",
    "import os\n",
    "import glob\n",
    "import random\n",
    "from sklearn.preprocessing import MultiLabelBinarizer"
   ]
  },
  {
   "cell_type": "code",
   "execution_count": 17,
   "id": "2dc22a8c",
   "metadata": {},
   "outputs": [],
   "source": [
    "vinbig_full = pd.read_csv(\"./train.csv\")"
   ]
  },
  {
   "cell_type": "code",
   "execution_count": 18,
   "id": "9a767ac5",
   "metadata": {},
   "outputs": [
    {
     "data": {
      "text/html": [
       "<div>\n",
       "<style scoped>\n",
       "    .dataframe tbody tr th:only-of-type {\n",
       "        vertical-align: middle;\n",
       "    }\n",
       "\n",
       "    .dataframe tbody tr th {\n",
       "        vertical-align: top;\n",
       "    }\n",
       "\n",
       "    .dataframe thead th {\n",
       "        text-align: right;\n",
       "    }\n",
       "</style>\n",
       "<table border=\"1\" class=\"dataframe\">\n",
       "  <thead>\n",
       "    <tr style=\"text-align: right;\">\n",
       "      <th></th>\n",
       "      <th>image_id</th>\n",
       "      <th>class_name</th>\n",
       "      <th>class_id</th>\n",
       "      <th>rad_id</th>\n",
       "      <th>x_min</th>\n",
       "      <th>y_min</th>\n",
       "      <th>x_max</th>\n",
       "      <th>y_max</th>\n",
       "    </tr>\n",
       "  </thead>\n",
       "  <tbody>\n",
       "    <tr>\n",
       "      <th>0</th>\n",
       "      <td>50a418190bc3fb1ef1633bf9678929b3</td>\n",
       "      <td>No finding</td>\n",
       "      <td>14</td>\n",
       "      <td>R11</td>\n",
       "      <td>NaN</td>\n",
       "      <td>NaN</td>\n",
       "      <td>NaN</td>\n",
       "      <td>NaN</td>\n",
       "    </tr>\n",
       "    <tr>\n",
       "      <th>1</th>\n",
       "      <td>21a10246a5ec7af151081d0cd6d65dc9</td>\n",
       "      <td>No finding</td>\n",
       "      <td>14</td>\n",
       "      <td>R7</td>\n",
       "      <td>NaN</td>\n",
       "      <td>NaN</td>\n",
       "      <td>NaN</td>\n",
       "      <td>NaN</td>\n",
       "    </tr>\n",
       "    <tr>\n",
       "      <th>2</th>\n",
       "      <td>9a5094b2563a1ef3ff50dc5c7ff71345</td>\n",
       "      <td>Cardiomegaly</td>\n",
       "      <td>3</td>\n",
       "      <td>R10</td>\n",
       "      <td>691.0</td>\n",
       "      <td>1375.0</td>\n",
       "      <td>1653.0</td>\n",
       "      <td>1831.0</td>\n",
       "    </tr>\n",
       "    <tr>\n",
       "      <th>3</th>\n",
       "      <td>051132a778e61a86eb147c7c6f564dfe</td>\n",
       "      <td>Aortic enlargement</td>\n",
       "      <td>0</td>\n",
       "      <td>R10</td>\n",
       "      <td>1264.0</td>\n",
       "      <td>743.0</td>\n",
       "      <td>1611.0</td>\n",
       "      <td>1019.0</td>\n",
       "    </tr>\n",
       "    <tr>\n",
       "      <th>4</th>\n",
       "      <td>063319de25ce7edb9b1c6b8881290140</td>\n",
       "      <td>No finding</td>\n",
       "      <td>14</td>\n",
       "      <td>R10</td>\n",
       "      <td>NaN</td>\n",
       "      <td>NaN</td>\n",
       "      <td>NaN</td>\n",
       "      <td>NaN</td>\n",
       "    </tr>\n",
       "  </tbody>\n",
       "</table>\n",
       "</div>"
      ],
      "text/plain": [
       "                           image_id          class_name  class_id rad_id  \\\n",
       "0  50a418190bc3fb1ef1633bf9678929b3          No finding        14    R11   \n",
       "1  21a10246a5ec7af151081d0cd6d65dc9          No finding        14     R7   \n",
       "2  9a5094b2563a1ef3ff50dc5c7ff71345        Cardiomegaly         3    R10   \n",
       "3  051132a778e61a86eb147c7c6f564dfe  Aortic enlargement         0    R10   \n",
       "4  063319de25ce7edb9b1c6b8881290140          No finding        14    R10   \n",
       "\n",
       "    x_min   y_min   x_max   y_max  \n",
       "0     NaN     NaN     NaN     NaN  \n",
       "1     NaN     NaN     NaN     NaN  \n",
       "2   691.0  1375.0  1653.0  1831.0  \n",
       "3  1264.0   743.0  1611.0  1019.0  \n",
       "4     NaN     NaN     NaN     NaN  "
      ]
     },
     "execution_count": 18,
     "metadata": {},
     "output_type": "execute_result"
    }
   ],
   "source": [
    "vinbig_full.head()"
   ]
  },
  {
   "cell_type": "code",
   "execution_count": 20,
   "id": "41f439cf",
   "metadata": {},
   "outputs": [
    {
     "data": {
      "text/plain": [
       "95"
      ]
     },
     "execution_count": 20,
     "metadata": {},
     "output_type": "execute_result"
    }
   ],
   "source": [
    "mask_imgs_original = [mask.replace(\"./originals/\", \"\").replace(\"_json\", \"\") for mask in glob.glob(\"./originals/*_json\")]\n",
    "len(mask_imgs_original)"
   ]
  },
  {
   "cell_type": "code",
   "execution_count": 34,
   "id": "ec5ecd32",
   "metadata": {},
   "outputs": [],
   "source": [
    "train_ids = random.sample(mask_imgs_original, int(0.6 * len(mask_imgs_original)))"
   ]
  },
  {
   "cell_type": "code",
   "execution_count": 35,
   "id": "cf00cb1b",
   "metadata": {},
   "outputs": [],
   "source": [
    "val_test_ids = set(mask_imgs_original) - set(train_ids)"
   ]
  },
  {
   "cell_type": "code",
   "execution_count": 36,
   "id": "5e15090c",
   "metadata": {},
   "outputs": [
    {
     "name": "stderr",
     "output_type": "stream",
     "text": [
      "/tmp/ipykernel_2034/4218299585.py:1: DeprecationWarning: Sampling from a set deprecated\n",
      "since Python 3.9 and will be removed in a subsequent version.\n",
      "  val_ids = random.sample(val_test_ids, int(0.2 * len(mask_imgs_original)))\n"
     ]
    }
   ],
   "source": [
    "val_ids = random.sample(val_test_ids, int(0.2 * len(mask_imgs_original)))\n",
    "test_ids = list(set(val_test_ids) - set(val_ids))"
   ]
  },
  {
   "cell_type": "code",
   "execution_count": 38,
   "id": "d987cb49",
   "metadata": {},
   "outputs": [
    {
     "data": {
      "text/plain": [
       "95"
      ]
     },
     "execution_count": 38,
     "metadata": {},
     "output_type": "execute_result"
    }
   ],
   "source": [
    "len(set(train_ids + val_ids + test_ids))"
   ]
  },
  {
   "cell_type": "code",
   "execution_count": 41,
   "id": "3eb792f1",
   "metadata": {},
   "outputs": [],
   "source": [
    "# construct train/val/test files\n",
    "def dump_image_sets(image_ids, binarized_label_list, set_name = \"train\"):\n",
    "    images_f = open(f\"{set_name}_binarized_list.txt\", \"w\")\n",
    "    for idx, image_id in enumerate(image_ids):\n",
    "        images_f.write(f\"{image_id} {' '.join(map(str, list(binarized_label_list[idx])))}\" + os.linesep)\n",
    "    images_f.close()\n",
    "\n",
    "def construct_files(image_ids, vinbig_df, dataset):\n",
    "    label_lists = []\n",
    "    for image_id in image_ids:\n",
    "        labels = set(vinbig_df.query(f\"image_id=='{image_id}'\")[\"class_name\"].values)\n",
    "        label_lists.append(labels)\n",
    "        \n",
    "    mlb = MultiLabelBinarizer(classes=['Aortic enlargement', 'Atelectasis', 'Calcification',\n",
    "       'Cardiomegaly', 'Consolidation', 'ILD', 'Infiltration',\n",
    "       'Lung Opacity', 'No finding', 'Nodule/Mass', 'Other lesion',\n",
    "       'Pleural effusion', 'Pleural thickening', 'Pneumothorax',\n",
    "       'Pulmonary fibrosis'])\n",
    "\n",
    "    binarized_labels = mlb.fit_transform([label for label in label_lists])\n",
    "    \n",
    "    dump_image_sets(image_ids, binarized_labels, dataset)"
   ]
  },
  {
   "cell_type": "code",
   "execution_count": 42,
   "id": "c840b6a9",
   "metadata": {},
   "outputs": [],
   "source": [
    "construct_files(train_ids, vinbig_full, \"train\")\n",
    "construct_files(val_ids, vinbig_full, \"val\")\n",
    "construct_files(test_ids, vinbig_full, \"test\")"
   ]
  },
  {
   "cell_type": "code",
   "execution_count": null,
   "id": "d047704e",
   "metadata": {},
   "outputs": [],
   "source": []
  }
 ],
 "metadata": {
  "kernelspec": {
   "display_name": "Python 3 (ipykernel)",
   "language": "python",
   "name": "python3"
  },
  "language_info": {
   "codemirror_mode": {
    "name": "ipython",
    "version": 3
   },
   "file_extension": ".py",
   "mimetype": "text/x-python",
   "name": "python",
   "nbconvert_exporter": "python",
   "pygments_lexer": "ipython3",
   "version": "3.9.5"
  }
 },
 "nbformat": 4,
 "nbformat_minor": 5
}
