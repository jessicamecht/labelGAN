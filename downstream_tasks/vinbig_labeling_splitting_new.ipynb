{
 "cells": [
  {
   "cell_type": "code",
   "execution_count": 1,
   "id": "d28e6a88",
   "metadata": {},
   "outputs": [],
   "source": [
    "import numpy as np\n",
    "import pandas as pd\n",
    "import pickle\n",
    "import os\n",
    "import glob\n",
    "import random\n",
    "from sklearn.preprocessing import MultiLabelBinarizer"
   ]
  },
  {
   "cell_type": "code",
   "execution_count": 2,
   "id": "1056efa6",
   "metadata": {},
   "outputs": [],
   "source": [
    "train_csv_path = \"/home/rmpatil/multi_task_gen/data/vinbig_we_labeled/train.csv\"\n",
    "self_annotated_vinbig_path = \"/home/rmpatil/multi_task_gen/data/vinbig_we_labeled/vinbig_test_imgs_and_segm/\""
   ]
  },
  {
   "cell_type": "code",
   "execution_count": 3,
   "id": "2dc22a8c",
   "metadata": {},
   "outputs": [],
   "source": [
    "vinbig_full_metadata = pd.read_csv(train_csv_path)"
   ]
  },
  {
   "cell_type": "code",
   "execution_count": 4,
   "id": "9a767ac5",
   "metadata": {},
   "outputs": [
    {
     "data": {
      "text/html": [
       "<div>\n",
       "<style scoped>\n",
       "    .dataframe tbody tr th:only-of-type {\n",
       "        vertical-align: middle;\n",
       "    }\n",
       "\n",
       "    .dataframe tbody tr th {\n",
       "        vertical-align: top;\n",
       "    }\n",
       "\n",
       "    .dataframe thead th {\n",
       "        text-align: right;\n",
       "    }\n",
       "</style>\n",
       "<table border=\"1\" class=\"dataframe\">\n",
       "  <thead>\n",
       "    <tr style=\"text-align: right;\">\n",
       "      <th></th>\n",
       "      <th>image_id</th>\n",
       "      <th>class_name</th>\n",
       "      <th>class_id</th>\n",
       "      <th>rad_id</th>\n",
       "      <th>x_min</th>\n",
       "      <th>y_min</th>\n",
       "      <th>x_max</th>\n",
       "      <th>y_max</th>\n",
       "    </tr>\n",
       "  </thead>\n",
       "  <tbody>\n",
       "    <tr>\n",
       "      <th>0</th>\n",
       "      <td>50a418190bc3fb1ef1633bf9678929b3</td>\n",
       "      <td>No finding</td>\n",
       "      <td>14</td>\n",
       "      <td>R11</td>\n",
       "      <td>NaN</td>\n",
       "      <td>NaN</td>\n",
       "      <td>NaN</td>\n",
       "      <td>NaN</td>\n",
       "    </tr>\n",
       "    <tr>\n",
       "      <th>1</th>\n",
       "      <td>21a10246a5ec7af151081d0cd6d65dc9</td>\n",
       "      <td>No finding</td>\n",
       "      <td>14</td>\n",
       "      <td>R7</td>\n",
       "      <td>NaN</td>\n",
       "      <td>NaN</td>\n",
       "      <td>NaN</td>\n",
       "      <td>NaN</td>\n",
       "    </tr>\n",
       "    <tr>\n",
       "      <th>2</th>\n",
       "      <td>9a5094b2563a1ef3ff50dc5c7ff71345</td>\n",
       "      <td>Cardiomegaly</td>\n",
       "      <td>3</td>\n",
       "      <td>R10</td>\n",
       "      <td>691.0</td>\n",
       "      <td>1375.0</td>\n",
       "      <td>1653.0</td>\n",
       "      <td>1831.0</td>\n",
       "    </tr>\n",
       "    <tr>\n",
       "      <th>3</th>\n",
       "      <td>051132a778e61a86eb147c7c6f564dfe</td>\n",
       "      <td>Aortic enlargement</td>\n",
       "      <td>0</td>\n",
       "      <td>R10</td>\n",
       "      <td>1264.0</td>\n",
       "      <td>743.0</td>\n",
       "      <td>1611.0</td>\n",
       "      <td>1019.0</td>\n",
       "    </tr>\n",
       "    <tr>\n",
       "      <th>4</th>\n",
       "      <td>063319de25ce7edb9b1c6b8881290140</td>\n",
       "      <td>No finding</td>\n",
       "      <td>14</td>\n",
       "      <td>R10</td>\n",
       "      <td>NaN</td>\n",
       "      <td>NaN</td>\n",
       "      <td>NaN</td>\n",
       "      <td>NaN</td>\n",
       "    </tr>\n",
       "  </tbody>\n",
       "</table>\n",
       "</div>"
      ],
      "text/plain": [
       "                           image_id          class_name  class_id rad_id  \\\n",
       "0  50a418190bc3fb1ef1633bf9678929b3          No finding        14    R11   \n",
       "1  21a10246a5ec7af151081d0cd6d65dc9          No finding        14     R7   \n",
       "2  9a5094b2563a1ef3ff50dc5c7ff71345        Cardiomegaly         3    R10   \n",
       "3  051132a778e61a86eb147c7c6f564dfe  Aortic enlargement         0    R10   \n",
       "4  063319de25ce7edb9b1c6b8881290140          No finding        14    R10   \n",
       "\n",
       "    x_min   y_min   x_max   y_max  \n",
       "0     NaN     NaN     NaN     NaN  \n",
       "1     NaN     NaN     NaN     NaN  \n",
       "2   691.0  1375.0  1653.0  1831.0  \n",
       "3  1264.0   743.0  1611.0  1019.0  \n",
       "4     NaN     NaN     NaN     NaN  "
      ]
     },
     "execution_count": 4,
     "metadata": {},
     "output_type": "execute_result"
    }
   ],
   "source": [
    "vinbig_full_metadata.head()"
   ]
  },
  {
   "cell_type": "code",
   "execution_count": 5,
   "id": "41f439cf",
   "metadata": {},
   "outputs": [
    {
     "data": {
      "text/plain": [
       "149"
      ]
     },
     "execution_count": 5,
     "metadata": {},
     "output_type": "execute_result"
    }
   ],
   "source": [
    "image_ids_annotated = np.array([mask.replace(self_annotated_vinbig_path, \"\").replace(\".json\", \"\") for mask in glob.glob(f\"{self_annotated_vinbig_path}*.json\")])\n",
    "len(image_ids_annotated)"
   ]
  },
  {
   "cell_type": "markdown",
   "id": "03f3ce2f",
   "metadata": {},
   "source": [
    "## EDA on image id data available"
   ]
  },
  {
   "cell_type": "code",
   "execution_count": 6,
   "id": "6a347ba1",
   "metadata": {},
   "outputs": [],
   "source": [
    "# getting binarized labels for multi-label classification problem\n",
    "label_lists = []\n",
    "for image_id in image_ids_annotated:\n",
    "    labels = set(vinbig_full_metadata.query(f\"image_id=='{image_id}'\")[\"class_name\"].values)\n",
    "    label_lists.append(labels)\n",
    "        \n",
    "mlb = MultiLabelBinarizer(classes=['Aortic enlargement', 'Atelectasis', 'Calcification',\n",
    "   'Cardiomegaly', 'Consolidation', 'ILD', 'Infiltration',\n",
    "   'Lung Opacity', 'No finding', 'Nodule/Mass', 'Other lesion',\n",
    "   'Pleural effusion', 'Pleural thickening', 'Pneumothorax',\n",
    "   'Pulmonary fibrosis'])\n",
    "\n",
    "binarized_labels = mlb.fit_transform([label for label in label_lists])\n",
    "\n",
    "image_id_2_label = {}\n",
    "for idx, image_id in enumerate(image_ids_annotated):\n",
    "    image_id_2_label[image_id] = binarized_labels[idx]"
   ]
  },
  {
   "cell_type": "code",
   "execution_count": 7,
   "id": "9d13c3b6",
   "metadata": {},
   "outputs": [
    {
     "data": {
      "text/plain": [
       "(149, 15)"
      ]
     },
     "execution_count": 7,
     "metadata": {},
     "output_type": "execute_result"
    }
   ],
   "source": [
    "# total images\n",
    "binarized_labels.shape"
   ]
  },
  {
   "cell_type": "code",
   "execution_count": 8,
   "id": "0fa9c585",
   "metadata": {},
   "outputs": [
    {
     "data": {
      "text/plain": [
       "79"
      ]
     },
     "execution_count": 8,
     "metadata": {},
     "output_type": "execute_result"
    }
   ],
   "source": [
    "# images with no disease == \"no finding\"\n",
    "no_dis = (binarized_labels[:, 8] == 1).nonzero()[0].shape[0]\n",
    "no_dis"
   ]
  },
  {
   "cell_type": "code",
   "execution_count": 9,
   "id": "3e6a46f6",
   "metadata": {},
   "outputs": [
    {
     "data": {
      "text/plain": [
       "70"
      ]
     },
     "execution_count": 9,
     "metadata": {},
     "output_type": "execute_result"
    }
   ],
   "source": [
    "# images with disease != \"no finding\"\n",
    "dis = (binarized_labels[:, 8] != 1).nonzero()[0].shape[0]\n",
    "dis"
   ]
  },
  {
   "cell_type": "code",
   "execution_count": 10,
   "id": "83e11558",
   "metadata": {},
   "outputs": [
    {
     "data": {
      "text/plain": [
       "1.1285714285714286"
      ]
     },
     "execution_count": 10,
     "metadata": {},
     "output_type": "execute_result"
    }
   ],
   "source": [
    "label_split = no_dis/dis\n",
    "label_split"
   ]
  },
  {
   "cell_type": "code",
   "execution_count": 11,
   "id": "b75b2d09",
   "metadata": {},
   "outputs": [
    {
     "data": {
      "text/plain": [
       "((55, 49), (24, 21))"
      ]
     },
     "execution_count": 11,
     "metadata": {},
     "output_type": "execute_result"
    }
   ],
   "source": [
    "train_test_split = 0.7 # no validation set as we are not doing any hyper parameter tuning in our work!\n",
    "\n",
    "train_no_dis_num = int(train_test_split * no_dis)\n",
    "train_dis_num = int(train_test_split * dis)\n",
    "\n",
    "test_no_dis_num = no_dis - train_no_dis_num\n",
    "test_dis_num = dis - train_dis_num\n",
    "\n",
    "((train_no_dis_num, train_dis_num), (test_no_dis_num, test_dis_num))"
   ]
  },
  {
   "cell_type": "code",
   "execution_count": 12,
   "id": "b851b534",
   "metadata": {},
   "outputs": [
    {
     "data": {
      "text/plain": [
       "104"
      ]
     },
     "execution_count": 12,
     "metadata": {},
     "output_type": "execute_result"
    }
   ],
   "source": [
    "train_ids = []\n",
    "\n",
    "train_ids.extend(np.random.choice(image_ids_annotated[(binarized_labels[:, 8] == 1)], size = train_no_dis_num, replace = False))\n",
    "train_ids.extend(np.random.choice(image_ids_annotated[(binarized_labels[:, 8] != 1)], size = train_dis_num, replace = False))\n",
    "len(train_ids)"
   ]
  },
  {
   "cell_type": "code",
   "execution_count": 13,
   "id": "6ec31770",
   "metadata": {},
   "outputs": [
    {
     "data": {
      "text/plain": [
       "45"
      ]
     },
     "execution_count": 13,
     "metadata": {},
     "output_type": "execute_result"
    }
   ],
   "source": [
    "test_ids = []\n",
    "\n",
    "test_ids.extend(np.setdiff1d(image_ids_annotated[(binarized_labels[:, 8] == 1)], train_ids))\n",
    "test_ids.extend(np.setdiff1d(image_ids_annotated[(binarized_labels[:, 8] != 1)], train_ids))\n",
    "len(test_ids)"
   ]
  },
  {
   "cell_type": "code",
   "execution_count": 14,
   "id": "d987cb49",
   "metadata": {},
   "outputs": [
    {
     "data": {
      "text/plain": [
       "149"
      ]
     },
     "execution_count": 14,
     "metadata": {},
     "output_type": "execute_result"
    }
   ],
   "source": [
    "len(set(train_ids + test_ids))"
   ]
  },
  {
   "cell_type": "code",
   "execution_count": 15,
   "id": "3eb792f1",
   "metadata": {},
   "outputs": [],
   "source": [
    "# construct train/val/test files\n",
    "def dump_image_sets(image_ids, binarized_label_map, set_name = \"train\"):\n",
    "    images_f = open(f\"{set_name}_binarized_list.txt\", \"w\")\n",
    "    for image_id in image_ids:\n",
    "        images_f.write(f\"{image_id} {' '.join(map(str, list(binarized_label_map[image_id])))}\" + os.linesep)\n",
    "    images_f.close()"
   ]
  },
  {
   "cell_type": "code",
   "execution_count": 16,
   "id": "c840b6a9",
   "metadata": {},
   "outputs": [],
   "source": [
    "dump_image_sets(train_ids, image_id_2_label, \"train\")\n",
    "# construct_files(val_ids, vinbig_full_metadata, \"val\")\n",
    "dump_image_sets(test_ids, image_id_2_label, \"test\")"
   ]
  },
  {
   "cell_type": "code",
   "execution_count": null,
   "id": "42756da4",
   "metadata": {},
   "outputs": [],
   "source": []
  }
 ],
 "metadata": {
  "kernelspec": {
   "display_name": "Python 3 (ipykernel)",
   "language": "python",
   "name": "python3"
  },
  "language_info": {
   "codemirror_mode": {
    "name": "ipython",
    "version": 3
   },
   "file_extension": ".py",
   "mimetype": "text/x-python",
   "name": "python",
   "nbconvert_exporter": "python",
   "pygments_lexer": "ipython3",
   "version": "3.9.5"
  }
 },
 "nbformat": 4,
 "nbformat_minor": 5
}
