{
 "cells": [
  {
   "cell_type": "code",
   "execution_count": 1,
   "id": "d28e6a88",
   "metadata": {},
   "outputs": [],
   "source": [
    "import numpy as np\n",
    "import pandas as pd\n",
    "import pickle\n",
    "import os\n",
    "import glob\n",
    "import random\n",
    "from sklearn.preprocessing import MultiLabelBinarizer"
   ]
  },
  {
   "cell_type": "code",
   "execution_count": 2,
   "id": "1056efa6",
   "metadata": {},
   "outputs": [],
   "source": [
    "train_csv_path = \"/home/jessica/labelGAN/downstream_tasks/vinbig/train.csv\"\n",
    "self_annotated_vinbig_path = \"/data1/shared/jessica/data/labelGAN/vinbig_test_imgs_and_segm/imgs/\""
   ]
  },
  {
   "cell_type": "code",
   "execution_count": 3,
   "id": "8811d1ef",
   "metadata": {},
   "outputs": [],
   "source": [
    "image_ids_annotated = [elem.replace(\".png\", \"\")for elem in os.listdir(self_annotated_vinbig_path)]"
   ]
  },
  {
   "cell_type": "code",
   "execution_count": 4,
   "id": "95e97beb",
   "metadata": {},
   "outputs": [
    {
     "data": {
      "text/plain": [
       "322"
      ]
     },
     "execution_count": 4,
     "metadata": {},
     "output_type": "execute_result"
    }
   ],
   "source": [
    "len(image_ids_annotated)"
   ]
  },
  {
   "cell_type": "code",
   "execution_count": 5,
   "id": "3f598b94",
   "metadata": {},
   "outputs": [],
   "source": [
    "vinbig_full_metadata = pd.read_csv(train_csv_path)"
   ]
  },
  {
   "cell_type": "code",
   "execution_count": 6,
   "id": "f59654da",
   "metadata": {},
   "outputs": [],
   "source": [
    "train_img_ids = pd.read_csv('/home/jessica/labelGAN/downstream_tasks/vinbig/train_binarized_list.txt', delimiter=' ', header=None)[0]"
   ]
  },
  {
   "cell_type": "code",
   "execution_count": 7,
   "id": "86213100",
   "metadata": {},
   "outputs": [],
   "source": [
    "m = ~pd.Series(image_ids_annotated).isin(train_img_ids)"
   ]
  },
  {
   "cell_type": "code",
   "execution_count": 8,
   "id": "2eb6260d",
   "metadata": {},
   "outputs": [],
   "source": [
    "image_ids_annotated = np.array(image_ids_annotated)[m]"
   ]
  },
  {
   "cell_type": "code",
   "execution_count": 9,
   "id": "31a05cd3",
   "metadata": {},
   "outputs": [],
   "source": [
    "val_img_ids = pd.read_csv('/home/jessica/labelGAN/downstream_tasks/vinbig/val_binarized_list.txt', delimiter=' ', header=None)[0]\n",
    "m = ~pd.Series(image_ids_annotated).isin(val_img_ids)\n",
    "image_ids_annotated = np.array(image_ids_annotated)[m]\n",
    "test_img_ids = pd.read_csv('/home/jessica/labelGAN/downstream_tasks/vinbig/test_binarized_list.txt', delimiter=' ', header=None)[0]\n",
    "m = ~pd.Series(image_ids_annotated).isin(test_img_ids)\n",
    "image_ids_annotated = np.array(image_ids_annotated)[m]"
   ]
  },
  {
   "cell_type": "code",
   "execution_count": 10,
   "id": "66874151",
   "metadata": {},
   "outputs": [
    {
     "data": {
      "text/plain": [
       "(0,)"
      ]
     },
     "execution_count": 10,
     "metadata": {},
     "output_type": "execute_result"
    }
   ],
   "source": [
    "image_ids_annotated.shape"
   ]
  },
  {
   "cell_type": "markdown",
   "id": "03f3ce2f",
   "metadata": {},
   "source": [
    "## EDA on image id data available"
   ]
  },
  {
   "cell_type": "code",
   "execution_count": 11,
   "id": "6a347ba1",
   "metadata": {},
   "outputs": [],
   "source": [
    "# getting binarized labels for multi-label classification problem\n",
    "label_lists = []\n",
    "for image_id in image_ids_annotated:\n",
    "    labels = set(vinbig_full_metadata.query(f\"image_id=='{image_id}'\")[\"class_name\"].values)\n",
    "    label_lists.append(labels)\n",
    "        \n",
    "mlb = MultiLabelBinarizer(classes=['Aortic enlargement', 'Atelectasis', 'Calcification',\n",
    "   'Cardiomegaly', 'Consolidation', 'ILD', 'Infiltration',\n",
    "   'Lung Opacity', 'No finding', 'Nodule/Mass', 'Other lesion',\n",
    "   'Pleural effusion', 'Pleural thickening', 'Pneumothorax',\n",
    "   'Pulmonary fibrosis'])\n",
    "\n",
    "binarized_labels = mlb.fit_transform([label for label in label_lists])\n",
    "\n",
    "image_id_2_label = {}\n",
    "for idx, image_id in enumerate(image_ids_annotated):\n",
    "    image_id_2_label[image_id] = binarized_labels[idx]"
   ]
  },
  {
   "cell_type": "code",
   "execution_count": 12,
   "id": "b5314c56",
   "metadata": {},
   "outputs": [
    {
     "data": {
      "text/plain": [
       "array([], shape=(0, 15), dtype=int64)"
      ]
     },
     "execution_count": 12,
     "metadata": {},
     "output_type": "execute_result"
    }
   ],
   "source": [
    "binarized_labels"
   ]
  },
  {
   "cell_type": "code",
   "execution_count": 188,
   "id": "0fa9c585",
   "metadata": {},
   "outputs": [
    {
     "data": {
      "text/plain": [
       "0"
      ]
     },
     "execution_count": 188,
     "metadata": {},
     "output_type": "execute_result"
    }
   ],
   "source": [
    "# images with no disease == \"no finding\"\n",
    "no_dis = (binarized_labels[:, 8] == 1).nonzero()[0].shape[0]\n",
    "no_dis"
   ]
  },
  {
   "cell_type": "code",
   "execution_count": 189,
   "id": "3e6a46f6",
   "metadata": {},
   "outputs": [
    {
     "data": {
      "text/plain": [
       "173"
      ]
     },
     "execution_count": 189,
     "metadata": {},
     "output_type": "execute_result"
    }
   ],
   "source": [
    "# images with disease != \"no finding\"\n",
    "dis = (binarized_labels[:, 8] != 1).nonzero()[0].shape[0]\n",
    "dis"
   ]
  },
  {
   "cell_type": "code",
   "execution_count": 190,
   "id": "83e11558",
   "metadata": {},
   "outputs": [
    {
     "data": {
      "text/plain": [
       "0.0"
      ]
     },
     "execution_count": 190,
     "metadata": {},
     "output_type": "execute_result"
    }
   ],
   "source": [
    "label_split = no_dis/dis\n",
    "label_split"
   ]
  },
  {
   "cell_type": "code",
   "execution_count": null,
   "id": "e406f93c",
   "metadata": {},
   "outputs": [],
   "source": []
  },
  {
   "cell_type": "code",
   "execution_count": 191,
   "id": "b75b2d09",
   "metadata": {},
   "outputs": [
    {
     "data": {
      "text/plain": [
       "((0, 86), (0, 87))"
      ]
     },
     "execution_count": 191,
     "metadata": {},
     "output_type": "execute_result"
    }
   ],
   "source": [
    "train_test_split = 0.5 # no validation set as we are not doing any hyper parameter tuning in our work!\n",
    "\n",
    "train_no_dis_num = int(train_test_split * no_dis)\n",
    "train_dis_num = int(train_test_split * dis)\n",
    "\n",
    "test_no_dis_num = no_dis - train_no_dis_num\n",
    "test_dis_num = dis - train_dis_num\n",
    "\n",
    "((train_no_dis_num, train_dis_num), (test_no_dis_num, test_dis_num))"
   ]
  },
  {
   "cell_type": "code",
   "execution_count": 192,
   "id": "b851b534",
   "metadata": {},
   "outputs": [
    {
     "data": {
      "text/plain": [
       "86"
      ]
     },
     "execution_count": 192,
     "metadata": {},
     "output_type": "execute_result"
    }
   ],
   "source": [
    "train_ids = []\n",
    "\n",
    "train_ids.extend(np.random.choice(image_ids_annotated[(binarized_labels[:, 8] == 1)], size = train_no_dis_num, replace = False))\n",
    "train_ids.extend(np.random.choice(image_ids_annotated[(binarized_labels[:, 8] != 1)], size = train_dis_num, replace = False))\n",
    "len(train_ids)"
   ]
  },
  {
   "cell_type": "code",
   "execution_count": 193,
   "id": "6ec31770",
   "metadata": {},
   "outputs": [
    {
     "data": {
      "text/plain": [
       "87"
      ]
     },
     "execution_count": 193,
     "metadata": {},
     "output_type": "execute_result"
    }
   ],
   "source": [
    "test_ids = []\n",
    "\n",
    "test_ids.extend(np.setdiff1d(image_ids_annotated[(binarized_labels[:, 8] == 1)], train_ids))\n",
    "test_ids.extend(np.setdiff1d(image_ids_annotated[(binarized_labels[:, 8] != 1)], train_ids))\n",
    "len(test_ids)"
   ]
  },
  {
   "cell_type": "code",
   "execution_count": 194,
   "id": "d987cb49",
   "metadata": {},
   "outputs": [
    {
     "data": {
      "text/plain": [
       "173"
      ]
     },
     "execution_count": 194,
     "metadata": {},
     "output_type": "execute_result"
    }
   ],
   "source": [
    "len(set(train_ids + test_ids))"
   ]
  },
  {
   "cell_type": "code",
   "execution_count": 196,
   "id": "3eb792f1",
   "metadata": {},
   "outputs": [],
   "source": [
    "# construct train/val/test files\n",
    "def dump_image_sets(image_ids, binarized_label_map, set_name = \"train\"):\n",
    "    images_f = open(f\"/home/jessica/labelGAN/downstream_tasks/vinbig/{set_name}_binarized_list.txt\", \"a\")\n",
    "    for image_id in image_ids:\n",
    "        images_f.write(f\"{image_id} {' '.join(map(str, list(binarized_label_map[image_id])))}\" + os.linesep)\n",
    "    images_f.close()"
   ]
  },
  {
   "cell_type": "code",
   "execution_count": 197,
   "id": "c840b6a9",
   "metadata": {},
   "outputs": [],
   "source": [
    "dump_image_sets(train_ids, image_id_2_label, \"val\")\n",
    "# construct_files(val_ids, vinbig_full_metadata, \"val\")\n"
   ]
  },
  {
   "cell_type": "code",
   "execution_count": 198,
   "id": "42756da4",
   "metadata": {},
   "outputs": [],
   "source": [
    "dump_image_sets(test_ids, image_id_2_label, \"test\")"
   ]
  },
  {
   "cell_type": "code",
   "execution_count": null,
   "id": "dedb0f8e",
   "metadata": {},
   "outputs": [],
   "source": []
  }
 ],
 "metadata": {
  "kernelspec": {
   "display_name": "Python 3 (ipykernel)",
   "language": "python",
   "name": "python3"
  },
  "language_info": {
   "codemirror_mode": {
    "name": "ipython",
    "version": 3
   },
   "file_extension": ".py",
   "mimetype": "text/x-python",
   "name": "python",
   "nbconvert_exporter": "python",
   "pygments_lexer": "ipython3",
   "version": "3.10.6"
  }
 },
 "nbformat": 4,
 "nbformat_minor": 5
}
