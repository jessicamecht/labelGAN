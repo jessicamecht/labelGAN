{
 "cells": [
  {
   "cell_type": "code",
   "execution_count": 2,
   "id": "ce4ab3a3",
   "metadata": {},
   "outputs": [],
   "source": [
    "import pandas as pd\n",
    "import numpy as np"
   ]
  },
  {
   "cell_type": "code",
   "execution_count": 11,
   "id": "d80d4442",
   "metadata": {},
   "outputs": [],
   "source": [
    "sg = np.load('./generations/latent_stylegan1.npy')"
   ]
  },
  {
   "cell_type": "code",
   "execution_count": 17,
   "id": "676efe75",
   "metadata": {},
   "outputs": [],
   "source": [
    "np.save('./generations/latent_stylegan1_small.npy', sg[0:7])"
   ]
  },
  {
   "cell_type": "code",
   "execution_count": 8,
   "id": "8414ec0d",
   "metadata": {},
   "outputs": [
    {
     "data": {
      "text/plain": [
       "(99, 512)"
      ]
     },
     "execution_count": 8,
     "metadata": {},
     "output_type": "execute_result"
    }
   ],
   "source": [
    "a"
   ]
  },
  {
   "cell_type": "code",
   "execution_count": null,
   "id": "ec79f2b7",
   "metadata": {},
   "outputs": [],
   "source": []
  }
 ],
 "metadata": {
  "kernelspec": {
   "display_name": "Python 3 (clean)",
   "language": "python",
   "name": "python3_clean"
  },
  "language_info": {
   "codemirror_mode": {
    "name": "ipython",
    "version": 3
   },
   "file_extension": ".py",
   "mimetype": "text/x-python",
   "name": "python",
   "nbconvert_exporter": "python",
   "pygments_lexer": "ipython3",
   "version": "3.9.5"
  }
 },
 "nbformat": 4,
 "nbformat_minor": 5
}
