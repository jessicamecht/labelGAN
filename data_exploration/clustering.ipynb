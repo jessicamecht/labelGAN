{
 "cells": [
  {
   "cell_type": "code",
   "execution_count": 49,
   "id": "baec25aa",
   "metadata": {},
   "outputs": [
    {
     "name": "stderr",
     "output_type": "stream",
     "text": [
      "Downloading: \"https://download.pytorch.org/models/resnet18-f37072fd.pth\" to /home/jechterh/.cache/torch/hub/checkpoints/resnet18-f37072fd.pth\n"
     ]
    },
    {
     "data": {
      "application/vnd.jupyter.widget-view+json": {
       "model_id": "b515f60dd1624fd29ad02fcacb6991f3",
       "version_major": 2,
       "version_minor": 0
      },
      "text/plain": [
       "  0%|          | 0.00/44.7M [00:00<?, ?B/s]"
      ]
     },
     "metadata": {},
     "output_type": "display_data"
    }
   ],
   "source": [
    "import os \n",
    "import pandas as pd \n",
    "import numpy as np \n",
    "from sklearn.manifold import TSNE\n",
    "import seaborn as sns\n",
    "import cv2\n",
    "import glob\n",
    "import torch\n",
    "import torch.nn as nn\n",
    "import torchvision.models as models\n",
    "import torchvision.transforms as transforms\n",
    "\n",
    "resnet18 = models.resnet18(pretrained=True)\n",
    "modules=list(resnet18.children())[:-1]\n",
    "resnet18=nn.Sequential(*modules)\n",
    "for p in resnet18.parameters():\n",
    "    p.requires_grad = False\n"
   ]
  },
  {
   "cell_type": "code",
   "execution_count": null,
   "id": "1b600690",
   "metadata": {},
   "outputs": [],
   "source": [
    "names = glob.glob(f\"{path}/*.jpeg\")[0:1000]"
   ]
  },
  {
   "cell_type": "code",
   "execution_count": 74,
   "id": "bbcf8d3c",
   "metadata": {},
   "outputs": [],
   "source": [
    "path = '/home/jechterh/private/group-9/nih_data/train'\n",
    "images = [resnet18(torch.tensor(cv2.resize(cv2.imread(file), (224,224))).permute(2,0,1).float().unsqueeze(0)).squeeze() for file in glob.glob(f\"{path}/*.jpeg\")[0:1000]]\n"
   ]
  },
  {
   "cell_type": "code",
   "execution_count": 68,
   "id": "7d9d16fe",
   "metadata": {},
   "outputs": [],
   "source": [
    "images_new = np.concatenate(images, axis=0).reshape(10, -1)\n"
   ]
  },
  {
   "cell_type": "code",
   "execution_count": 69,
   "id": "797542ae",
   "metadata": {},
   "outputs": [
    {
     "data": {
      "text/plain": [
       "(10, 512)"
      ]
     },
     "execution_count": 69,
     "metadata": {},
     "output_type": "execute_result"
    }
   ],
   "source": [
    "images_new.shape"
   ]
  },
  {
   "cell_type": "code",
   "execution_count": 70,
   "id": "76f23065",
   "metadata": {},
   "outputs": [],
   "source": [
    "tsne = TSNE(n_components=2, verbose=1, random_state=123)"
   ]
  },
  {
   "cell_type": "code",
   "execution_count": 71,
   "id": "0ce8eb4b",
   "metadata": {},
   "outputs": [
    {
     "name": "stdout",
     "output_type": "stream",
     "text": [
      "[t-SNE] Computing 9 nearest neighbors...\n",
      "[t-SNE] Indexed 10 samples in 0.001s...\n",
      "[t-SNE] Computed neighbors for 10 samples in 0.013s...\n",
      "[t-SNE] Computed conditional probabilities for sample 10 / 10\n",
      "[t-SNE] Mean sigma: 1125899906842624.000000\n",
      "[t-SNE] KL divergence after 250 iterations with early exaggeration: 48.898937\n",
      "[t-SNE] KL divergence after 1000 iterations: 0.250724\n"
     ]
    }
   ],
   "source": [
    "z = tsne.fit_transform(images_new) "
   ]
  },
  {
   "cell_type": "code",
   "execution_count": 72,
   "id": "6a3be40a",
   "metadata": {},
   "outputs": [
    {
     "data": {
      "text/plain": [
       "[Text(0.5, 1.0, 'Iris data T-SNE projection')]"
      ]
     },
     "execution_count": 72,
     "metadata": {},
     "output_type": "execute_result"
    },
    {
     "data": {
      "image/png": "[encoded data removed]",
      "text/plain": [
       "<Figure size 432x288 with 1 Axes>"
      ]
     },
     "metadata": {
      "needs_background": "light"
     },
     "output_type": "display_data"
    }
   ],
   "source": [
    "df = pd.DataFrame()\n",
    "df[\"comp-1\"] = z[:,0]\n",
    "df[\"comp-2\"] = z[:,1]\n",
    "\n",
    "sns.scatterplot(x=\"comp-1\", y=\"comp-2\", #hue=df.y.tolist(),\n",
    "                palette=sns.color_palette(\"hls\", 3),\n",
    "                data=df).set(title=\"Iris data T-SNE projection\") "
   ]
  },
  {
   "cell_type": "code",
   "execution_count": null,
   "id": "ef7361b7",
   "metadata": {},
   "outputs": [],
   "source": []
  }
 ],
 "metadata": {
  "kernelspec": {
   "display_name": "Python 3 (ipykernel)",
   "language": "python",
   "name": "python3"
  },
  "language_info": {
   "codemirror_mode": {
    "name": "ipython",
    "version": 3
   },
   "file_extension": ".py",
   "mimetype": "text/x-python",
   "name": "python",
   "nbconvert_exporter": "python",
   "pygments_lexer": "ipython3",
   "version": "3.9.5"
  }
 },
 "nbformat": 4,
 "nbformat_minor": 5
}
